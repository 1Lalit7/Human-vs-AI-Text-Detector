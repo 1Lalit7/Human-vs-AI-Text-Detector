{
 "cells": [
  {
   "cell_type": "markdown",
   "id": "9e454d3e-da99-4965-af2b-34bf0af333ac",
   "metadata": {
    "jp-MarkdownHeadingCollapsed": true
   },
   "source": [
    "# Import Important Libraries"
   ]
  },
  {
   "cell_type": "code",
   "execution_count": 1,
   "id": "cf932ccd-7eaf-4fb8-8d6f-ea17e9e87178",
   "metadata": {},
   "outputs": [],
   "source": [
    "import numpy as np\n",
    "import pandas as pd\n",
    "import os\n",
    "import matplotlib.pyplot as plt\n",
    "from sklearn.model_selection import train_test_split\n",
    "from sklearn.pipeline import Pipeline\n",
    "from sklearn.naive_bayes import MultinomialNB\n",
    "from sklearn.feature_extraction.text import CountVectorizer\n",
    "from sklearn.feature_extraction.text import TfidfTransformer\n",
    "from sklearn.metrics import confusion_matrix, classification_report, f1_score, ConfusionMatrixDisplay, accuracy_score\n",
    "import seaborn as sns\n",
    "import pickle\n",
    "from matplotlib.ticker import FixedLocator"
   ]
  },
  {
   "cell_type": "code",
   "execution_count": null,
   "id": "71f8e3cc-8d99-49ca-bd8b-b8df61ff7982",
   "metadata": {},
   "outputs": [],
   "source": []
  },
  {
   "cell_type": "markdown",
   "id": "fc71d36a-7a2d-4f65-8b66-fb8438e00eb6",
   "metadata": {
    "jp-MarkdownHeadingCollapsed": true
   },
   "source": [
    "# Important Functions"
   ]
  },
  {
   "cell_type": "code",
   "execution_count": 2,
   "id": "d4838e74-5ef0-4c50-a5be-241c958e47c3",
   "metadata": {},
   "outputs": [],
   "source": [
    "def model_evaluation(y_test, y_pred):\n",
    "\n",
    "    # Calculate the confusion matrix\n",
    "    conf_matrix = confusion_matrix(y_test, y_pred)\n",
    "\n",
    "    disp = ConfusionMatrixDisplay(confusion_matrix=cm, display_labels=['AI', 'Human'])\n",
    "\n",
    "    disp.plot()\n",
    "\n",
    "    plt.show()\n",
    "\n",
    "    # Assuming y_test and y_pred are your actual and predicted labels respectively\n",
    "    print(\"Classification Report:\\n\", classification_report(y_test, y_pred))\n",
    "    \n",
    "    # Extracting the confusion matrix components\n",
    "    tn, fp, fn, tp = conf_matrix.ravel()\n",
    "    \n",
    "    # Calculate the F1-score\n",
    "    f1 = f1_score(y_test, y_pred)\n",
    "    \n",
    "    # Calculate the false positive rate and false negative rate\n",
    "    fpr = fp / (fp + tn)\n",
    "    fnr = fn / (fn + tp)\n",
    "    tpr = tp / (tp + fn)\n",
    "    tnr = tn / (tn + fp)\n",
    "    \n",
    "    print(\"\\nAdditional Metrics:\")\n",
    "    print(f\"F1-score: {f1:.2f}\")\n",
    "    print(f\"False Positive Rate (FPR): {fpr:.2f}\")\n",
    "    print(f\"False Negative Rate (FNR): {fnr:.2f}\")\n",
    "    print(f\"True Positive Rate (TPR): {tpr:.2f}\")\n",
    "    print(f\"True Negative Rate (TNR): {tnr:.2f}\")\n",
    "    \n",
    "    # Extract the number of actual mistakes (false predictions)\n",
    "    actual_mistakes = fp + fn\n",
    "    \n",
    "    print(\"\\nTotal number of actual mistakes:\", actual_mistakes)\n",
    "    print(actual_mistakes/len(y_pred))"
   ]
  },
  {
   "cell_type": "code",
   "execution_count": 31,
   "id": "6c17bfea-ea33-48f6-bfc7-a4a9381c0bf3",
   "metadata": {},
   "outputs": [],
   "source": [
    "def testing(text, model):\n",
    "    label_mapping = {0: 'Human', 1: 'AI'}\n",
    "    embeded_text = processed_dataset_obj.preprocessing_text(text).reshape(1, -1)\n",
    "    embeded_text_df = pd.DataFrame(embeded_text)\n",
    "    embeded_text_df.columns = [f\"feature_{i}\" for i in range(1, embeded_text_df.shape[1] + 1)]\n",
    "    transformed_data = fdr.transform_single_data_point(embeded_text_df)\n",
    "    prediction = model.predict(transformed_data)\n",
    "    predicted_label = label_mapping[prediction[0]] + \" Generated\"\n",
    "    return predicted_label"
   ]
  },
  {
   "cell_type": "code",
   "execution_count": 4,
   "id": "9d5144f7-4165-4b01-bf57-7bab472da52e",
   "metadata": {},
   "outputs": [],
   "source": [
    "def count_plot(dataset):\n",
    "\n",
    "    # Define the label mapping with integer keys\n",
    "    label_mapping = {0: 'Human', 1: 'AI'}\n",
    "    \n",
    "    # Create the countplot\n",
    "    ax = sns.countplot(x='label', data=dataset)\n",
    "    \n",
    "    # Set fixed ticks and tick labels based on the mapping\n",
    "    ax.xaxis.set_major_locator(FixedLocator(ax.get_xticks()))\n",
    "    ax.set_xticklabels([label_mapping[int(label.get_text())] for label in ax.get_xticklabels()])\n",
    "    \n",
    "    # Annotate each bar with the count\n",
    "    for p in ax.patches:\n",
    "        ax.annotate(\n",
    "            f'{int(p.get_height())}',  # The count value\n",
    "            (p.get_x() + p.get_width() / 2, p.get_height()),  # Position of the text\n",
    "            ha='center',\n",
    "            va='bottom'\n",
    "        )\n",
    "    ax.set_xlabel('Category')  \n",
    "    ax.set_ylabel('Count')     \n",
    "    \n",
    "    # Show the plot\n",
    "    plt.show()"
   ]
  },
  {
   "cell_type": "markdown",
   "id": "f78dc713-355e-4194-a985-eb42a57244f9",
   "metadata": {
    "jp-MarkdownHeadingCollapsed": true
   },
   "source": [
    "# Loading Dataset"
   ]
  },
  {
   "cell_type": "code",
   "execution_count": 3,
   "id": "3b8cd2c0-7abf-440e-98b6-7c2521459cdd",
   "metadata": {},
   "outputs": [],
   "source": [
    "def get_dataset_df(human_dataset_path, ai_dataset_path):\n",
    "    dataset_paths = [human_dataset_path, ai_dataset_path]\n",
    "    result_df = pd.DataFrame()\n",
    "    \n",
    "    for dataset_path in dataset_paths:\n",
    "\n",
    "        label = 1 if dataset_path.split('\\\\')[-1] == 'AI' else 0 ## 1 for AI generated text and 0 for human generated text\n",
    "        \n",
    "        csv_files = [os.path.join(dataset_path, file_name) for file_name in os.listdir(dataset_path) \n",
    "                if file_name.endswith(\".csv\")]\n",
    "        \n",
    "        for csv_file in csv_files:\n",
    "            data = pd.read_csv(csv_file)\n",
    "            data['label'] = label\n",
    "            result_df = pd.concat([result_df, data], ignore_index=True)\n",
    "    result_df = result_df.drop(columns = ['uid'])\n",
    "    result_df = result_df.drop_duplicates()\n",
    "    result_df = result_df.sample(frac=1).reset_index(drop=True)\n",
    "            \n",
    "    return result_df"
   ]
  },
  {
   "cell_type": "code",
   "execution_count": 4,
   "id": "1e23a6d9-6434-4f1a-adcb-018a9e19836e",
   "metadata": {},
   "outputs": [],
   "source": [
    "ai_dataset_path = r\"Dataset\\AI\"\n",
    "human_dataset_path = r\"Dataset\\Human\"\n",
    "dataset = get_dataset_df(human_dataset_path, ai_dataset_path)"
   ]
  },
  {
   "cell_type": "code",
   "execution_count": 6,
   "id": "d9117b5e-6f6f-4873-b66f-efaed33f929e",
   "metadata": {},
   "outputs": [
    {
     "data": {
      "text/plain": [
       "(58537, 2)"
      ]
     },
     "execution_count": 6,
     "metadata": {},
     "output_type": "execute_result"
    }
   ],
   "source": [
    "dataset.shape"
   ]
  },
  {
   "cell_type": "code",
   "execution_count": 7,
   "id": "bfac8c54-8880-4486-be02-ab24da93b539",
   "metadata": {},
   "outputs": [
    {
     "data": {
      "text/html": [
       "<div>\n",
       "<style scoped>\n",
       "    .dataframe tbody tr th:only-of-type {\n",
       "        vertical-align: middle;\n",
       "    }\n",
       "\n",
       "    .dataframe tbody tr th {\n",
       "        vertical-align: top;\n",
       "    }\n",
       "\n",
       "    .dataframe thead th {\n",
       "        text-align: right;\n",
       "    }\n",
       "</style>\n",
       "<table border=\"1\" class=\"dataframe\">\n",
       "  <thead>\n",
       "    <tr style=\"text-align: right;\">\n",
       "      <th></th>\n",
       "      <th>text</th>\n",
       "      <th>label</th>\n",
       "    </tr>\n",
       "  </thead>\n",
       "  <tbody>\n",
       "    <tr>\n",
       "      <th>0</th>\n",
       "      <td>GOP-ers are complaining that McCain isn't doin...</td>\n",
       "      <td>0</td>\n",
       "    </tr>\n",
       "    <tr>\n",
       "      <th>1</th>\n",
       "      <td>The Union cabinet has cleared the merger of Ra...</td>\n",
       "      <td>0</td>\n",
       "    </tr>\n",
       "    <tr>\n",
       "      <th>2</th>\n",
       "      <td>Last week's birth of Prince George was widely ...</td>\n",
       "      <td>1</td>\n",
       "    </tr>\n",
       "    <tr>\n",
       "      <th>3</th>\n",
       "      <td>Orlando has struggled to buy a small family-ow...</td>\n",
       "      <td>1</td>\n",
       "    </tr>\n",
       "    <tr>\n",
       "      <th>4</th>\n",
       "      <td>Reagan McCarthy, a 20-year-old student at Penn...</td>\n",
       "      <td>1</td>\n",
       "    </tr>\n",
       "  </tbody>\n",
       "</table>\n",
       "</div>"
      ],
      "text/plain": [
       "                                                text  label\n",
       "0  GOP-ers are complaining that McCain isn't doin...      0\n",
       "1  The Union cabinet has cleared the merger of Ra...      0\n",
       "2  Last week's birth of Prince George was widely ...      1\n",
       "3  Orlando has struggled to buy a small family-ow...      1\n",
       "4  Reagan McCarthy, a 20-year-old student at Penn...      1"
      ]
     },
     "execution_count": 7,
     "metadata": {},
     "output_type": "execute_result"
    }
   ],
   "source": [
    "dataset.head()"
   ]
  },
  {
   "cell_type": "code",
   "execution_count": 8,
   "id": "e3f1d452-56a1-4666-8726-067e220f8753",
   "metadata": {},
   "outputs": [
    {
     "name": "stdout",
     "output_type": "stream",
     "text": [
      "<class 'pandas.core.frame.DataFrame'>\n",
      "RangeIndex: 58537 entries, 0 to 58536\n",
      "Data columns (total 2 columns):\n",
      " #   Column  Non-Null Count  Dtype \n",
      "---  ------  --------------  ----- \n",
      " 0   text    58537 non-null  object\n",
      " 1   label   58537 non-null  int64 \n",
      "dtypes: int64(1), object(1)\n",
      "memory usage: 914.8+ KB\n"
     ]
    }
   ],
   "source": [
    "dataset.info()"
   ]
  },
  {
   "cell_type": "code",
   "execution_count": 14,
   "id": "97579a4b-6527-4808-a3c1-7e7237254088",
   "metadata": {},
   "outputs": [
    {
     "data": {
      "image/png": "[encoded data removed]",
      "text/plain": [
       "<Figure size 640x480 with 1 Axes>"
      ]
     },
     "metadata": {},
     "output_type": "display_data"
    }
   ],
   "source": [
    "count_plot(dataset)"
   ]
  },
  {
   "cell_type": "markdown",
   "id": "a6dec54a-232e-4242-8a93-373ce3a79aa1",
   "metadata": {
    "jp-MarkdownHeadingCollapsed": true
   },
   "source": [
    "# Selecting 10000 smaples with equal class"
   ]
  },
  {
   "cell_type": "code",
   "execution_count": 31,
   "id": "34378478-8406-495b-acfe-9ef1fa729946",
   "metadata": {},
   "outputs": [
    {
     "data": {
      "text/plain": [
       "(58537, 2)"
      ]
     },
     "execution_count": 31,
     "metadata": {},
     "output_type": "execute_result"
    }
   ],
   "source": [
    "dataset.shape"
   ]
  },
  {
   "cell_type": "code",
   "execution_count": 32,
   "id": "fa75075c-feb3-4598-aab5-d7c26afa4e6c",
   "metadata": {},
   "outputs": [],
   "source": [
    "def sampling_the_dataset(dataset, num_samples, random_state=42):\n",
    "    class_0_samples = num_samples//2\n",
    "    class_1_samples = num_samples - class_0_samples\n",
    "    \n",
    "    dataset_0 = dataset[dataset['label'] == 0]\n",
    "    sampled_dataset_0 = dataset_0.sample(class_0_samples, random_state=random_state)\n",
    "    \n",
    "    dataset_1 = dataset[dataset['label'] == 1]\n",
    "    sampled_dataset_1 = dataset_1.sample(class_1_samples, random_state=random_state)\n",
    "\n",
    "    combined_dataset = pd.concat([sampled_dataset_0, sampled_dataset_1], axis=0, ignore_index=True)\n",
    "\n",
    "    shuffled_dataset = combined_dataset.sample(frac=1, random_state=random_state).reset_index(drop=True)\n",
    "\n",
    "    return shuffled_dataset"
   ]
  },
  {
   "cell_type": "code",
   "execution_count": 33,
   "id": "92ffeda5-5f86-49d0-974f-786adbfcf5a7",
   "metadata": {},
   "outputs": [],
   "source": [
    "dataset_10000 = sampling_the_dataset(dataset, 10000)"
   ]
  },
  {
   "cell_type": "code",
   "execution_count": 34,
   "id": "e59b629d-2957-4079-bb39-68ac4c11c346",
   "metadata": {},
   "outputs": [
    {
     "data": {
      "text/plain": [
       "(10000, 2)"
      ]
     },
     "execution_count": 34,
     "metadata": {},
     "output_type": "execute_result"
    }
   ],
   "source": [
    "dataset_10000.shape"
   ]
  },
  {
   "cell_type": "code",
   "execution_count": 40,
   "id": "29a12798-d1de-48a8-9a2c-f162f666e7f8",
   "metadata": {},
   "outputs": [
    {
     "data": {
      "text/html": [
       "<div>\n",
       "<style scoped>\n",
       "    .dataframe tbody tr th:only-of-type {\n",
       "        vertical-align: middle;\n",
       "    }\n",
       "\n",
       "    .dataframe tbody tr th {\n",
       "        vertical-align: top;\n",
       "    }\n",
       "\n",
       "    .dataframe thead th {\n",
       "        text-align: right;\n",
       "    }\n",
       "</style>\n",
       "<table border=\"1\" class=\"dataframe\">\n",
       "  <thead>\n",
       "    <tr style=\"text-align: right;\">\n",
       "      <th></th>\n",
       "      <th>text</th>\n",
       "      <th>label</th>\n",
       "    </tr>\n",
       "  </thead>\n",
       "  <tbody>\n",
       "    <tr>\n",
       "      <th>0</th>\n",
       "      <td>Newt Gingrich has demanded an apology from NBC...</td>\n",
       "      <td>1</td>\n",
       "    </tr>\n",
       "    <tr>\n",
       "      <th>1</th>\n",
       "      <td>Ok - there are some very good answers here but...</td>\n",
       "      <td>0</td>\n",
       "    </tr>\n",
       "    <tr>\n",
       "      <th>2</th>\n",
       "      <td>Bexar County Commissioners Tuesday solidified ...</td>\n",
       "      <td>0</td>\n",
       "    </tr>\n",
       "    <tr>\n",
       "      <th>3</th>\n",
       "      <td>Image copyright INS News Agency Image caption ...</td>\n",
       "      <td>0</td>\n",
       "    </tr>\n",
       "    <tr>\n",
       "      <th>4</th>\n",
       "      <td>We've spent some time looking at the conspirac...</td>\n",
       "      <td>0</td>\n",
       "    </tr>\n",
       "  </tbody>\n",
       "</table>\n",
       "</div>"
      ],
      "text/plain": [
       "                                                text  label\n",
       "0  Newt Gingrich has demanded an apology from NBC...      1\n",
       "1  Ok - there are some very good answers here but...      0\n",
       "2  Bexar County Commissioners Tuesday solidified ...      0\n",
       "3  Image copyright INS News Agency Image caption ...      0\n",
       "4  We've spent some time looking at the conspirac...      0"
      ]
     },
     "execution_count": 40,
     "metadata": {},
     "output_type": "execute_result"
    }
   ],
   "source": [
    "dataset_10000.head()"
   ]
  },
  {
   "cell_type": "code",
   "execution_count": 41,
   "id": "413789c4-a33d-4299-b9bb-e274eac62308",
   "metadata": {},
   "outputs": [
    {
     "data": {
      "image/png": "[encoded data removed]",
      "text/plain": [
       "<Figure size 640x480 with 1 Axes>"
      ]
     },
     "metadata": {},
     "output_type": "display_data"
    }
   ],
   "source": [
    "count_plot(dataset_10000)"
   ]
  },
  {
   "cell_type": "markdown",
   "id": "93c42bf4-2c53-4d05-9af4-a0fc79f33b41",
   "metadata": {},
   "source": [
    "# Data Preprocessing Transformer Based Embeddings"
   ]
  },
  {
   "cell_type": "code",
   "execution_count": 37,
   "id": "2b9be10f-2ae1-45b7-8623-b07fe17b4783",
   "metadata": {},
   "outputs": [],
   "source": [
    "import torch\n",
    "from transformers import AutoTokenizer, AutoModel"
   ]
  },
  {
   "cell_type": "code",
   "execution_count": 33,
   "id": "9f12c2d2-82af-4ac4-9c4d-349d6cf94434",
   "metadata": {},
   "outputs": [],
   "source": [
    "class TextEmbedding:\n",
    "\n",
    "    def __init__(self, model_name):\n",
    "        self.tokenizer = AutoTokenizer.from_pretrained(model_name)\n",
    "        self.model = AutoModel.from_pretrained(model_name)\n",
    "        self.max_length = self.tokenizer.model_max_length\n",
    "\n",
    "    def convert_text_to_tokenid(self, text):\n",
    "        tokens = self.tokenizer(text, return_tensors=\"pt\")\n",
    "        token_ids = tokens[\"input_ids\"].squeeze().tolist()\n",
    "        return token_ids\n",
    "\n",
    "    def convert_tokenid_to_tokens(self, token_ids):\n",
    "        tokens_str = self.tokenizer.convert_ids_to_tokens(token_ids)\n",
    "        return tokens_str\n",
    "\n",
    "    def get_vocabulary(self):\n",
    "        return self.tokenizer.get_vocab()\n",
    "\n",
    "    def convert_tokenid_to_text(self, token_ids):\n",
    "        reconstructed_text = self.tokenizer.decode(token_ids)\n",
    "        return reconstructed_text\n",
    "\n",
    "    def cosine_similarity(self, input1, input2):\n",
    "        embeddings1 = self.encode(input1)\n",
    "        embeddings2 = self.encode(input2)\n",
    "        similarity_score = F.cosine_similarity(embeddings1, embeddings2)\n",
    "        return round(similarity_score.item(), 4)\n",
    "        \n",
    "    def encode(self, text):\n",
    "        \n",
    "        tokens = self.tokenizer(text, return_tensors=\"pt\")\n",
    "        input_ids = tokens['input_ids'][0]  # Extract the input IDs\n",
    "        num_chunks = (len(input_ids) // self.max_length) + 1\n",
    "        chunks = [input_ids[i * self.max_length: (i + 1) * self.max_length] for i in range(num_chunks)]\n",
    "    \n",
    "        embeddings = []\n",
    "\n",
    "        # Process each chunk\n",
    "        for chunk in chunks:\n",
    "            chunk_tensor = chunk.unsqueeze(0)  # Add batch dimension (batch, num_tokens)\n",
    "            with torch.no_grad():\n",
    "                outputs = self.model(input_ids=chunk_tensor)\n",
    "                chunk_embedding = outputs.last_hidden_state.mean(dim=1)  # (batch, num_tokens, embeding_size)\n",
    "            embeddings.append(chunk_embedding)\n",
    "\n",
    "        con_embedding = torch.cat(embeddings, dim=0)\n",
    "        combined_embedding = torch.mean(con_embedding, dim=0)\n",
    "            \n",
    "        return combined_embedding\n",
    "        \n",
    "    def decode(self, embedded_text):\n",
    "        pass"
   ]
  },
  {
   "cell_type": "code",
   "execution_count": 35,
   "id": "0296640d-65af-4bba-9db2-bb87e64f4000",
   "metadata": {},
   "outputs": [],
   "source": [
    "class TextPreprocessing:\n",
    "    def __init__(self,  model_name = 'gpt2'):\n",
    "        # self.text_embedding = text_embedding\n",
    "        self.text_embedding = TextEmbedding(model_name)\n",
    "\n",
    "    def preprocessing_basic(self, text):\n",
    "        text = text.lower()\n",
    "        text = text.replace('\\r\\n', ' ').replace('\\n', '').replace('\\r', '').replace('\\\\', '')\n",
    "        return text\n",
    "\n",
    "    def preprocessing_text(self, text):\n",
    "        text_encoded = self.text_embedding.encode(text)\n",
    "        text_encoded_flatten = torch.flatten(text_encoded)\n",
    "        text_encoded_flatten_array = text_encoded_flatten.numpy()\n",
    "        return text_encoded_flatten_array\n",
    "\n",
    "    def preprocessing_final(self, dataset):\n",
    "        # processed_dataset = self.dataset['text'].copy()\n",
    "        processed_dataset = dataset['text'].apply(self.preprocessing_text)\n",
    "        dataset_text_df = pd.DataFrame(processed_dataset.tolist())\n",
    "        dataset_text_df.columns = [f\"feature_{i}\" for i in range(1, dataset_text_df.shape[1] + 1)]\n",
    "        processed_dataset = pd.concat([dataset_text_df, dataset['label']], axis = 1)\n",
    "        return processed_dataset"
   ]
  },
  {
   "cell_type": "code",
   "execution_count": 111,
   "id": "56e0f9e1-9fc9-4693-96d5-3795a51c3e1e",
   "metadata": {},
   "outputs": [],
   "source": [
    "# text_embedding_obj = TextEmbedding('gpt2')\n",
    "# text_embedding_obj = TextEmbedding('bert-base-uncased')"
   ]
  },
  {
   "cell_type": "code",
   "execution_count": 112,
   "id": "3f72d4a5-7a3b-4808-99e2-95ff5f03e6d2",
   "metadata": {},
   "outputs": [],
   "source": [
    "# print(text_embedding_obj.max_length)"
   ]
  },
  {
   "cell_type": "code",
   "execution_count": 45,
   "id": "5ce602cf-b3af-4d5f-8496-9cc6178b645e",
   "metadata": {},
   "outputs": [],
   "source": [
    "# dataset_10000.shape"
   ]
  },
  {
   "cell_type": "code",
   "execution_count": 38,
   "id": "558d5c9e-edc0-43dd-91dd-47d5e65fa74e",
   "metadata": {},
   "outputs": [
    {
     "name": "stdout",
     "output_type": "stream",
     "text": [
      "WARNING:tensorflow:From C:\\Users\\HP\\anaconda3\\envs\\MyProject\\Lib\\site-packages\\keras\\src\\losses.py:2976: The name tf.losses.sparse_softmax_cross_entropy is deprecated. Please use tf.compat.v1.losses.sparse_softmax_cross_entropy instead.\n",
      "\n"
     ]
    }
   ],
   "source": [
    "processed_dataset_obj = TextPreprocessing()"
   ]
  },
  {
   "cell_type": "code",
   "execution_count": 47,
   "id": "0c2ba860-7028-4822-8270-bb9cf17d375e",
   "metadata": {},
   "outputs": [],
   "source": [
    "# processed_dataset = processed_dataset_obj.preprocessing_final(dataset_10000)"
   ]
  },
  {
   "cell_type": "code",
   "execution_count": 62,
   "id": "f45f45ba-12cd-40c4-ba39-57bd1d7cd5ea",
   "metadata": {},
   "outputs": [],
   "source": [
    "# processed_dataset.to_pickle('Dataset\\preprocessed_gpt2_data_10000.pkl')"
   ]
  },
  {
   "cell_type": "code",
   "execution_count": 76,
   "id": "ef215ddc-23e5-419e-bfb9-f308673ca5fa",
   "metadata": {},
   "outputs": [],
   "source": []
  },
  {
   "cell_type": "markdown",
   "id": "6aa1010a-63ee-4dc0-b190-e1fca04963af",
   "metadata": {},
   "source": [
    "# Data Tarnsformation and Spliting"
   ]
  },
  {
   "cell_type": "code",
   "execution_count": 5,
   "id": "7a470624-d699-49c2-82d5-0f5d24964ce6",
   "metadata": {},
   "outputs": [],
   "source": [
    "preprocessed_data = pd.read_pickle('Dataset\\preprocessed_gpt2_data_10000.pkl')"
   ]
  },
  {
   "cell_type": "code",
   "execution_count": 6,
   "id": "9c5a4595-c327-4447-89da-294746db830e",
   "metadata": {},
   "outputs": [],
   "source": [
    "from sklearn.preprocessing import StandardScaler\n",
    "from sklearn.decomposition import PCA"
   ]
  },
  {
   "cell_type": "code",
   "execution_count": 41,
   "id": "3518eba8-693b-4ab0-8c25-e0dcd0718c0d",
   "metadata": {},
   "outputs": [],
   "source": [
    "class FeaturesDimensionalityReduction:\n",
    "    def __init__(self, scaler=None, pca=None):\n",
    "        self.scaler = scaler or StandardScaler()\n",
    "        self.pca = pca or PCA()\n",
    "\n",
    "    def fit(self, X_data, n_components):\n",
    "        self.scaler.fit(X_data)\n",
    "        standardized_data = self.scaler.transform(X_data)\n",
    "        self.pca = PCA(n_components=n_components)\n",
    "        self.pca.fit(standardized_data)\n",
    "\n",
    "    def transform_data(self, data):\n",
    "        standardized_data = self.scaler.transform(data)\n",
    "        return self.pca.transform(standardized_data)\n",
    "\n",
    "    def transform_single_data_point(self, data_point):\n",
    "        return self.transform_data(data_point)\n",
    "\n",
    "    def save(self, scaler_path=\"scaler.pkl\", pca_path=\"pca.pkl\"):\n",
    "        with open(scaler_path, \"wb\") as scaler_file:\n",
    "            pickle.dump(self.scaler, scaler_file)\n",
    "        with open(pca_path, \"wb\") as pca_file:\n",
    "            pickle.dump(self.pca, pca_file)\n",
    "\n",
    "    def load(self, scaler_path=\"scaler.pkl\", pca_path=\"pca.pkl\"):\n",
    "        with open(scaler_path, \"rb\") as scaler_file:\n",
    "            self.scaler = pickle.load(scaler_file)\n",
    "        with open(pca_path, \"rb\") as pca_file:\n",
    "            self.pca = pickle.load(pca_file)"
   ]
  },
  {
   "cell_type": "code",
   "execution_count": 42,
   "id": "4b4fd0a0-324e-48bf-af1e-2f924c32fb64",
   "metadata": {},
   "outputs": [
    {
     "data": {
      "text/plain": [
       "(10000, 769)"
      ]
     },
     "execution_count": 42,
     "metadata": {},
     "output_type": "execute_result"
    }
   ],
   "source": [
    "preprocessed_data.shape"
   ]
  },
  {
   "cell_type": "code",
   "execution_count": 43,
   "id": "b124d381-a900-4896-849a-a2fd77b3796e",
   "metadata": {},
   "outputs": [],
   "source": [
    "X = preprocessed_data.drop(columns = ['label'])\n",
    "y = preprocessed_data['label']"
   ]
  },
  {
   "cell_type": "code",
   "execution_count": 44,
   "id": "2a1bb846-bfda-4b56-88cf-56c7073ce1cc",
   "metadata": {},
   "outputs": [
    {
     "data": {
      "text/plain": [
       "(10000, 768)"
      ]
     },
     "execution_count": 44,
     "metadata": {},
     "output_type": "execute_result"
    }
   ],
   "source": [
    "X.shape"
   ]
  },
  {
   "cell_type": "code",
   "execution_count": 46,
   "id": "2b38ce4a-a070-4d48-b19c-fe65695026ca",
   "metadata": {},
   "outputs": [],
   "source": [
    "fdr = FeaturesDimensionalityReduction()\n",
    "fdr.fit(X, 100)\n"
   ]
  },
  {
   "cell_type": "code",
   "execution_count": 47,
   "id": "3355f829-a2c5-4c1f-961f-73fd091a22ea",
   "metadata": {},
   "outputs": [],
   "source": [
    "transformed_X_data = fdr.transform_data(X)"
   ]
  },
  {
   "cell_type": "code",
   "execution_count": 54,
   "id": "fc464441-acfd-43a6-a245-3cf132cf44fc",
   "metadata": {},
   "outputs": [
    {
     "data": {
      "text/plain": [
       "array([ 6.9083366, -5.462002 , -8.965607 ,  5.713791 , -1.197024 ],\n",
       "      dtype=float32)"
      ]
     },
     "execution_count": 54,
     "metadata": {},
     "output_type": "execute_result"
    }
   ],
   "source": [
    "transformed_X_data[0][:5]"
   ]
  },
  {
   "cell_type": "code",
   "execution_count": 49,
   "id": "0a9bad23-c175-4e39-8ca8-71b496100c36",
   "metadata": {},
   "outputs": [],
   "source": [
    "# fdr.save(scaler_path=\"Model\\scaler.pkl\", pca_path=\"Model\\pca.pkl\")"
   ]
  },
  {
   "cell_type": "code",
   "execution_count": 50,
   "id": "820f285e-1001-4fd9-b00d-77b569264771",
   "metadata": {},
   "outputs": [
    {
     "data": {
      "text/plain": [
       "<__main__.FeaturesDimensionalityReduction at 0x1970499aa50>"
      ]
     },
     "execution_count": 50,
     "metadata": {},
     "output_type": "execute_result"
    }
   ],
   "source": [
    "# fdr.load(scaler_path=\"Model\\scaler.pkl\", pca_path=\"Model\\pca.pkl\")"
   ]
  },
  {
   "cell_type": "code",
   "execution_count": 48,
   "id": "e1a26543-9014-42d9-8880-a077ff296e9f",
   "metadata": {},
   "outputs": [
    {
     "data": {
      "text/plain": [
       "(10000, 100)"
      ]
     },
     "execution_count": 48,
     "metadata": {},
     "output_type": "execute_result"
    }
   ],
   "source": [
    "transformed_X_data.shape"
   ]
  },
  {
   "cell_type": "code",
   "execution_count": 55,
   "id": "30dec69f-2560-42d6-aa12-3e5c450c1cc8",
   "metadata": {},
   "outputs": [],
   "source": [
    "X_train, X_test, y_train, y_test = train_test_split(tr_x, y, test_size=0.20, random_state=42)"
   ]
  },
  {
   "cell_type": "code",
   "execution_count": 56,
   "id": "f13495f9-7a9a-4786-a548-f2e8f5670c6b",
   "metadata": {},
   "outputs": [
    {
     "name": "stdout",
     "output_type": "stream",
     "text": [
      "Training dataset : \n",
      "  Features shape - (8000, 100) \n",
      "  Target shape - (8000,)\n",
      "Testing dataset : \n",
      "  Features shape - (2000, 100) \n",
      "  Target shape - (2000,)\n"
     ]
    }
   ],
   "source": [
    "print(f\"Training dataset : \\n  Features shape - {X_train.shape} \\n  Target shape - {y_train.shape}\")\n",
    "print(f\"Testing dataset : \\n  Features shape - {X_test.shape} \\n  Target shape - {y_test.shape}\")"
   ]
  },
  {
   "cell_type": "markdown",
   "id": "4c3119cf-3545-40aa-8fb6-2a8046ace98d",
   "metadata": {},
   "source": [
    "# Logistic Regression"
   ]
  },
  {
   "cell_type": "code",
   "execution_count": 57,
   "id": "81058093-0b8a-4fa5-b80f-1f58aacaf229",
   "metadata": {},
   "outputs": [],
   "source": [
    "from sklearn.linear_model import LogisticRegression"
   ]
  },
  {
   "cell_type": "code",
   "execution_count": 58,
   "id": "40b45280-653c-4081-897c-1d4df3fa9787",
   "metadata": {},
   "outputs": [],
   "source": [
    "logistic_regression_model = LogisticRegression(solver='sag', max_iter = 1000)\n",
    "# logistic_regression_model = LogisticRegression()"
   ]
  },
  {
   "cell_type": "code",
   "execution_count": 59,
   "id": "954578f7-8795-4a99-9c46-0c69e27650a9",
   "metadata": {},
   "outputs": [
    {
     "data": {
      "text/html": [
       "<style>#sk-container-id-2 {color: black;}#sk-container-id-2 pre{padding: 0;}#sk-container-id-2 div.sk-toggleable {background-color: white;}#sk-container-id-2 label.sk-toggleable__label {cursor: pointer;display: block;width: 100%;margin-bottom: 0;padding: 0.3em;box-sizing: border-box;text-align: center;}#sk-container-id-2 label.sk-toggleable__label-arrow:before {content: \"▸\";float: left;margin-right: 0.25em;color: #696969;}#sk-container-id-2 label.sk-toggleable__label-arrow:hover:before {color: black;}#sk-container-id-2 div.sk-estimator:hover label.sk-toggleable__label-arrow:before {color: black;}#sk-container-id-2 div.sk-toggleable__content {max-height: 0;max-width: 0;overflow: hidden;text-align: left;background-color: #f0f8ff;}#sk-container-id-2 div.sk-toggleable__content pre {margin: 0.2em;color: black;border-radius: 0.25em;background-color: #f0f8ff;}#sk-container-id-2 input.sk-toggleable__control:checked~div.sk-toggleable__content {max-height: 200px;max-width: 100%;overflow: auto;}#sk-container-id-2 input.sk-toggleable__control:checked~label.sk-toggleable__label-arrow:before {content: \"▾\";}#sk-container-id-2 div.sk-estimator input.sk-toggleable__control:checked~label.sk-toggleable__label {background-color: #d4ebff;}#sk-container-id-2 div.sk-label input.sk-toggleable__control:checked~label.sk-toggleable__label {background-color: #d4ebff;}#sk-container-id-2 input.sk-hidden--visually {border: 0;clip: rect(1px 1px 1px 1px);clip: rect(1px, 1px, 1px, 1px);height: 1px;margin: -1px;overflow: hidden;padding: 0;position: absolute;width: 1px;}#sk-container-id-2 div.sk-estimator {font-family: monospace;background-color: #f0f8ff;border: 1px dotted black;border-radius: 0.25em;box-sizing: border-box;margin-bottom: 0.5em;}#sk-container-id-2 div.sk-estimator:hover {background-color: #d4ebff;}#sk-container-id-2 div.sk-parallel-item::after {content: \"\";width: 100%;border-bottom: 1px solid gray;flex-grow: 1;}#sk-container-id-2 div.sk-label:hover label.sk-toggleable__label {background-color: #d4ebff;}#sk-container-id-2 div.sk-serial::before {content: \"\";position: absolute;border-left: 1px solid gray;box-sizing: border-box;top: 0;bottom: 0;left: 50%;z-index: 0;}#sk-container-id-2 div.sk-serial {display: flex;flex-direction: column;align-items: center;background-color: white;padding-right: 0.2em;padding-left: 0.2em;position: relative;}#sk-container-id-2 div.sk-item {position: relative;z-index: 1;}#sk-container-id-2 div.sk-parallel {display: flex;align-items: stretch;justify-content: center;background-color: white;position: relative;}#sk-container-id-2 div.sk-item::before, #sk-container-id-2 div.sk-parallel-item::before {content: \"\";position: absolute;border-left: 1px solid gray;box-sizing: border-box;top: 0;bottom: 0;left: 50%;z-index: -1;}#sk-container-id-2 div.sk-parallel-item {display: flex;flex-direction: column;z-index: 1;position: relative;background-color: white;}#sk-container-id-2 div.sk-parallel-item:first-child::after {align-self: flex-end;width: 50%;}#sk-container-id-2 div.sk-parallel-item:last-child::after {align-self: flex-start;width: 50%;}#sk-container-id-2 div.sk-parallel-item:only-child::after {width: 0;}#sk-container-id-2 div.sk-dashed-wrapped {border: 1px dashed gray;margin: 0 0.4em 0.5em 0.4em;box-sizing: border-box;padding-bottom: 0.4em;background-color: white;}#sk-container-id-2 div.sk-label label {font-family: monospace;font-weight: bold;display: inline-block;line-height: 1.2em;}#sk-container-id-2 div.sk-label-container {text-align: center;}#sk-container-id-2 div.sk-container {/* jupyter's `normalize.less` sets `[hidden] { display: none; }` but bootstrap.min.css set `[hidden] { display: none !important; }` so we also need the `!important` here to be able to override the default hidden behavior on the sphinx rendered scikit-learn.org. See: https://github.com/scikit-learn/scikit-learn/issues/21755 */display: inline-block !important;position: relative;}#sk-container-id-2 div.sk-text-repr-fallback {display: none;}</style><div id=\"sk-container-id-2\" class=\"sk-top-container\"><div class=\"sk-text-repr-fallback\"><pre>LogisticRegression(max_iter=1000, solver=&#x27;sag&#x27;)</pre><b>In a Jupyter environment, please rerun this cell to show the HTML representation or trust the notebook. <br />On GitHub, the HTML representation is unable to render, please try loading this page with nbviewer.org.</b></div><div class=\"sk-container\" hidden><div class=\"sk-item\"><div class=\"sk-estimator sk-toggleable\"><input class=\"sk-toggleable__control sk-hidden--visually\" id=\"sk-estimator-id-2\" type=\"checkbox\" checked><label for=\"sk-estimator-id-2\" class=\"sk-toggleable__label sk-toggleable__label-arrow\">LogisticRegression</label><div class=\"sk-toggleable__content\"><pre>LogisticRegression(max_iter=1000, solver=&#x27;sag&#x27;)</pre></div></div></div></div></div>"
      ],
      "text/plain": [
       "LogisticRegression(max_iter=1000, solver='sag')"
      ]
     },
     "execution_count": 59,
     "metadata": {},
     "output_type": "execute_result"
    }
   ],
   "source": [
    "logistic_regression_model.fit(X_train, y_train)"
   ]
  },
  {
   "cell_type": "code",
   "execution_count": 60,
   "id": "b7bcb775-e0d9-439d-ac48-51ab4778081e",
   "metadata": {},
   "outputs": [],
   "source": [
    "y_pred_test = logistic_regression_model.predict(X_test)"
   ]
  },
  {
   "cell_type": "code",
   "execution_count": 61,
   "id": "bdabc92c-be4b-422a-a81c-f75fc41fc3e9",
   "metadata": {},
   "outputs": [],
   "source": [
    "y_pred_train = logistic_regression_model.predict(X_train)"
   ]
  },
  {
   "cell_type": "code",
   "execution_count": 62,
   "id": "65571ac2-d837-4699-8dff-5defc02f0763",
   "metadata": {},
   "outputs": [
    {
     "data": {
      "image/png": "[encoded data removed]",
      "text/plain": [
       "<Figure size 640x480 with 2 Axes>"
      ]
     },
     "metadata": {},
     "output_type": "display_data"
    },
    {
     "name": "stdout",
     "output_type": "stream",
     "text": [
      "\n",
      "Accuracy: 0.93\n",
      "\n",
      "Classification Report:\n",
      "               precision    recall  f1-score   support\n",
      "\n",
      "           0       0.93      0.92      0.93      3987\n",
      "           1       0.92      0.93      0.93      4013\n",
      "\n",
      "    accuracy                           0.93      8000\n",
      "   macro avg       0.93      0.93      0.93      8000\n",
      "weighted avg       0.93      0.93      0.93      8000\n",
      "\n",
      "\n",
      "Error Rates and Additional Analysis:\n",
      "False Positive Rate (FPR): 0.08\n",
      "False Negative Rate (FNR): 0.07\n",
      "True Positive Rate (TPR): 0.93\n",
      "True Negative Rate (TNR): 0.92\n",
      "\n",
      "Summary of Errors:\n",
      "Total Mistakes (FP + FN): 592\n",
      "Error Rate: 0.07\n"
     ]
    }
   ],
   "source": [
    "model_evaluation(y_train, y_pred_train)"
   ]
  },
  {
   "cell_type": "code",
   "execution_count": 63,
   "id": "e85ee30c-b764-482e-b5ca-18082d7b80b3",
   "metadata": {},
   "outputs": [
    {
     "data": {
      "image/png": "[encoded data removed]",
      "text/plain": [
       "<Figure size 640x480 with 2 Axes>"
      ]
     },
     "metadata": {},
     "output_type": "display_data"
    },
    {
     "name": "stdout",
     "output_type": "stream",
     "text": [
      "\n",
      "Accuracy: 0.92\n",
      "\n",
      "Classification Report:\n",
      "               precision    recall  f1-score   support\n",
      "\n",
      "           0       0.92      0.93      0.92      1013\n",
      "           1       0.92      0.92      0.92       987\n",
      "\n",
      "    accuracy                           0.92      2000\n",
      "   macro avg       0.92      0.92      0.92      2000\n",
      "weighted avg       0.92      0.92      0.92      2000\n",
      "\n",
      "\n",
      "Error Rates and Additional Analysis:\n",
      "False Positive Rate (FPR): 0.07\n",
      "False Negative Rate (FNR): 0.08\n",
      "True Positive Rate (TPR): 0.92\n",
      "True Negative Rate (TNR): 0.93\n",
      "\n",
      "Summary of Errors:\n",
      "Total Mistakes (FP + FN): 154\n",
      "Error Rate: 0.08\n"
     ]
    }
   ],
   "source": [
    "model_evaluation(y_test, y_pred_test)"
   ]
  },
  {
   "cell_type": "code",
   "execution_count": 26,
   "id": "e001000c-c478-45e1-ac20-f4971ad05f85",
   "metadata": {},
   "outputs": [],
   "source": [
    "# Save the model\n",
    "# with open(\"Model\\logistic_regression_model.pkl\", \"wb\") as file:\n",
    "    # pickle.dump(logistic_regression_model, file)"
   ]
  },
  {
   "cell_type": "code",
   "execution_count": 28,
   "id": "99ec0551-905d-4d89-9ae6-55f437bb0c13",
   "metadata": {},
   "outputs": [],
   "source": [
    "# Load the model\n",
    "with open(\"Model\\logistic_regression_model.pkl\", \"rb\") as file:\n",
    "    loaded_model = pickle.load(file)"
   ]
  },
  {
   "cell_type": "code",
   "execution_count": 29,
   "id": "f12eca2f-2f9d-48d7-8095-b23805468779",
   "metadata": {},
   "outputs": [],
   "source": [
    "new_dataset = \"\"\"\n",
    "with due respect what \n",
    "\"\"\""
   ]
  },
  {
   "cell_type": "code",
   "execution_count": 39,
   "id": "01de97a8-610e-4a9d-8a7c-061f46c58f8f",
   "metadata": {},
   "outputs": [],
   "source": [
    "pred = testing(new_dataset, loaded_model)"
   ]
  },
  {
   "cell_type": "code",
   "execution_count": 40,
   "id": "8e0e5546-6a34-4676-9fa2-ba1b8170b457",
   "metadata": {},
   "outputs": [
    {
     "name": "stdout",
     "output_type": "stream",
     "text": [
      "Human Generated\n"
     ]
    }
   ],
   "source": [
    "print(pred)"
   ]
  },
  {
   "cell_type": "code",
   "execution_count": 94,
   "id": "202999d7-f82d-47b0-a720-aac370eb2880",
   "metadata": {},
   "outputs": [
    {
     "data": {
      "text/plain": [
       "array([0])"
      ]
     },
     "execution_count": 94,
     "metadata": {},
     "output_type": "execute_result"
    }
   ],
   "source": [
    "a = np.array([0])\n",
    "a"
   ]
  },
  {
   "cell_type": "code",
   "execution_count": 95,
   "id": "c59c02ed-e517-4cb6-b660-dc0052e5fede",
   "metadata": {},
   "outputs": [
    {
     "data": {
      "text/plain": [
       "{0: 'Human', 1: 'AI'}"
      ]
     },
     "execution_count": 95,
     "metadata": {},
     "output_type": "execute_result"
    }
   ],
   "source": [
    "label_mapping = {0: 'Human', 1: 'AI'} \n",
    "label_mapping"
   ]
  },
  {
   "cell_type": "code",
   "execution_count": 98,
   "id": "dfeeb68e-6115-49bc-9e3c-ae1beeff42f2",
   "metadata": {},
   "outputs": [
    {
     "data": {
      "text/plain": [
       "'Human'"
      ]
     },
     "execution_count": 98,
     "metadata": {},
     "output_type": "execute_result"
    }
   ],
   "source": [
    "label_mapping[a[0]]"
   ]
  },
  {
   "cell_type": "code",
   "execution_count": 96,
   "id": "daf8fff2-163b-4eb1-a049-71b1dfb5dc4a",
   "metadata": {},
   "outputs": [
    {
     "data": {
      "text/plain": [
       "0"
      ]
     },
     "execution_count": 96,
     "metadata": {},
     "output_type": "execute_result"
    }
   ],
   "source": [
    "a[0]"
   ]
  },
  {
   "cell_type": "markdown",
   "id": "bc70c503-f976-4cdb-8a36-a3c63de946e9",
   "metadata": {},
   "source": [
    "# Naive Bayes "
   ]
  },
  {
   "cell_type": "code",
   "execution_count": 114,
   "id": "8a352e75-594b-46ff-bbd4-a636d3f6fd8a",
   "metadata": {},
   "outputs": [],
   "source": [
    "from sklearn.naive_bayes import GaussianNB"
   ]
  },
  {
   "cell_type": "code",
   "execution_count": 115,
   "id": "f8f9d7bd-8acb-4678-9a9d-b8a4d44d59c8",
   "metadata": {},
   "outputs": [],
   "source": [
    "guassianNB_classifier = GaussianNB()"
   ]
  },
  {
   "cell_type": "code",
   "execution_count": 116,
   "id": "f552f9d3-905d-433f-9280-09c2933d2633",
   "metadata": {},
   "outputs": [
    {
     "data": {
      "text/html": [
       "<style>#sk-container-id-4 {color: black;}#sk-container-id-4 pre{padding: 0;}#sk-container-id-4 div.sk-toggleable {background-color: white;}#sk-container-id-4 label.sk-toggleable__label {cursor: pointer;display: block;width: 100%;margin-bottom: 0;padding: 0.3em;box-sizing: border-box;text-align: center;}#sk-container-id-4 label.sk-toggleable__label-arrow:before {content: \"▸\";float: left;margin-right: 0.25em;color: #696969;}#sk-container-id-4 label.sk-toggleable__label-arrow:hover:before {color: black;}#sk-container-id-4 div.sk-estimator:hover label.sk-toggleable__label-arrow:before {color: black;}#sk-container-id-4 div.sk-toggleable__content {max-height: 0;max-width: 0;overflow: hidden;text-align: left;background-color: #f0f8ff;}#sk-container-id-4 div.sk-toggleable__content pre {margin: 0.2em;color: black;border-radius: 0.25em;background-color: #f0f8ff;}#sk-container-id-4 input.sk-toggleable__control:checked~div.sk-toggleable__content {max-height: 200px;max-width: 100%;overflow: auto;}#sk-container-id-4 input.sk-toggleable__control:checked~label.sk-toggleable__label-arrow:before {content: \"▾\";}#sk-container-id-4 div.sk-estimator input.sk-toggleable__control:checked~label.sk-toggleable__label {background-color: #d4ebff;}#sk-container-id-4 div.sk-label input.sk-toggleable__control:checked~label.sk-toggleable__label {background-color: #d4ebff;}#sk-container-id-4 input.sk-hidden--visually {border: 0;clip: rect(1px 1px 1px 1px);clip: rect(1px, 1px, 1px, 1px);height: 1px;margin: -1px;overflow: hidden;padding: 0;position: absolute;width: 1px;}#sk-container-id-4 div.sk-estimator {font-family: monospace;background-color: #f0f8ff;border: 1px dotted black;border-radius: 0.25em;box-sizing: border-box;margin-bottom: 0.5em;}#sk-container-id-4 div.sk-estimator:hover {background-color: #d4ebff;}#sk-container-id-4 div.sk-parallel-item::after {content: \"\";width: 100%;border-bottom: 1px solid gray;flex-grow: 1;}#sk-container-id-4 div.sk-label:hover label.sk-toggleable__label {background-color: #d4ebff;}#sk-container-id-4 div.sk-serial::before {content: \"\";position: absolute;border-left: 1px solid gray;box-sizing: border-box;top: 0;bottom: 0;left: 50%;z-index: 0;}#sk-container-id-4 div.sk-serial {display: flex;flex-direction: column;align-items: center;background-color: white;padding-right: 0.2em;padding-left: 0.2em;position: relative;}#sk-container-id-4 div.sk-item {position: relative;z-index: 1;}#sk-container-id-4 div.sk-parallel {display: flex;align-items: stretch;justify-content: center;background-color: white;position: relative;}#sk-container-id-4 div.sk-item::before, #sk-container-id-4 div.sk-parallel-item::before {content: \"\";position: absolute;border-left: 1px solid gray;box-sizing: border-box;top: 0;bottom: 0;left: 50%;z-index: -1;}#sk-container-id-4 div.sk-parallel-item {display: flex;flex-direction: column;z-index: 1;position: relative;background-color: white;}#sk-container-id-4 div.sk-parallel-item:first-child::after {align-self: flex-end;width: 50%;}#sk-container-id-4 div.sk-parallel-item:last-child::after {align-self: flex-start;width: 50%;}#sk-container-id-4 div.sk-parallel-item:only-child::after {width: 0;}#sk-container-id-4 div.sk-dashed-wrapped {border: 1px dashed gray;margin: 0 0.4em 0.5em 0.4em;box-sizing: border-box;padding-bottom: 0.4em;background-color: white;}#sk-container-id-4 div.sk-label label {font-family: monospace;font-weight: bold;display: inline-block;line-height: 1.2em;}#sk-container-id-4 div.sk-label-container {text-align: center;}#sk-container-id-4 div.sk-container {/* jupyter's `normalize.less` sets `[hidden] { display: none; }` but bootstrap.min.css set `[hidden] { display: none !important; }` so we also need the `!important` here to be able to override the default hidden behavior on the sphinx rendered scikit-learn.org. See: https://github.com/scikit-learn/scikit-learn/issues/21755 */display: inline-block !important;position: relative;}#sk-container-id-4 div.sk-text-repr-fallback {display: none;}</style><div id=\"sk-container-id-4\" class=\"sk-top-container\"><div class=\"sk-text-repr-fallback\"><pre>GaussianNB()</pre><b>In a Jupyter environment, please rerun this cell to show the HTML representation or trust the notebook. <br />On GitHub, the HTML representation is unable to render, please try loading this page with nbviewer.org.</b></div><div class=\"sk-container\" hidden><div class=\"sk-item\"><div class=\"sk-estimator sk-toggleable\"><input class=\"sk-toggleable__control sk-hidden--visually\" id=\"sk-estimator-id-4\" type=\"checkbox\" checked><label for=\"sk-estimator-id-4\" class=\"sk-toggleable__label sk-toggleable__label-arrow\">GaussianNB</label><div class=\"sk-toggleable__content\"><pre>GaussianNB()</pre></div></div></div></div></div>"
      ],
      "text/plain": [
       "GaussianNB()"
      ]
     },
     "execution_count": 116,
     "metadata": {},
     "output_type": "execute_result"
    }
   ],
   "source": [
    "guassianNB_classifier.fit(X_train, y_train)"
   ]
  },
  {
   "cell_type": "code",
   "execution_count": 117,
   "id": "8e3fed5b-f545-4230-a40f-63b0f62e2078",
   "metadata": {},
   "outputs": [
    {
     "data": {
      "image/png": "[encoded data removed]",
      "text/plain": [
       "<Figure size 640x480 with 2 Axes>"
      ]
     },
     "metadata": {},
     "output_type": "display_data"
    },
    {
     "name": "stdout",
     "output_type": "stream",
     "text": [
      "\n",
      "Accuracy: 0.81\n",
      "\n",
      "Classification Report:\n",
      "               precision    recall  f1-score   support\n",
      "\n",
      "           0       0.83      0.79      0.81      3987\n",
      "           1       0.80      0.83      0.82      4013\n",
      "\n",
      "    accuracy                           0.81      8000\n",
      "   macro avg       0.81      0.81      0.81      8000\n",
      "weighted avg       0.81      0.81      0.81      8000\n",
      "\n",
      "\n",
      "Error Rates and Additional Analysis:\n",
      "False Positive Rate (FPR): 0.21\n",
      "False Negative Rate (FNR): 0.17\n",
      "True Positive Rate (TPR): 0.83\n",
      "True Negative Rate (TNR): 0.79\n",
      "\n",
      "Summary of Errors:\n",
      "Total Mistakes (FP + FN): 1484\n",
      "Error Rate: 0.19\n"
     ]
    }
   ],
   "source": [
    "y_pred_train = guassianNB_classifier.predict(X_train)\n",
    "model_evaluation(y_train, y_pred_train)"
   ]
  },
  {
   "cell_type": "code",
   "execution_count": 118,
   "id": "54262431-a6fe-4df8-81ec-b484c88f571e",
   "metadata": {},
   "outputs": [
    {
     "data": {
      "image/png": "[encoded data removed]",
      "text/plain": [
       "<Figure size 640x480 with 2 Axes>"
      ]
     },
     "metadata": {},
     "output_type": "display_data"
    },
    {
     "name": "stdout",
     "output_type": "stream",
     "text": [
      "\n",
      "Accuracy: 0.81\n",
      "\n",
      "Classification Report:\n",
      "               precision    recall  f1-score   support\n",
      "\n",
      "           0       0.81      0.80      0.81      1013\n",
      "           1       0.80      0.81      0.80       987\n",
      "\n",
      "    accuracy                           0.81      2000\n",
      "   macro avg       0.81      0.81      0.81      2000\n",
      "weighted avg       0.81      0.81      0.81      2000\n",
      "\n",
      "\n",
      "Error Rates and Additional Analysis:\n",
      "False Positive Rate (FPR): 0.20\n",
      "False Negative Rate (FNR): 0.19\n",
      "True Positive Rate (TPR): 0.81\n",
      "True Negative Rate (TNR): 0.80\n",
      "\n",
      "Summary of Errors:\n",
      "Total Mistakes (FP + FN): 389\n",
      "Error Rate: 0.19\n"
     ]
    }
   ],
   "source": [
    "y_pred_test = guassianNB_classifier.predict(X_test)\n",
    "model_evaluation(y_test, y_pred_test)"
   ]
  },
  {
   "cell_type": "markdown",
   "id": "4d08dc0d-bca4-4a4a-afd5-a0074128e7fa",
   "metadata": {},
   "source": [
    "# Support Vector Machine"
   ]
  },
  {
   "cell_type": "code",
   "execution_count": 119,
   "id": "b157459d-be8b-46be-8306-663f76038ab8",
   "metadata": {},
   "outputs": [],
   "source": [
    "from sklearn.svm import SVC"
   ]
  },
  {
   "cell_type": "code",
   "execution_count": 120,
   "id": "cf7bb4aa-8337-4fef-8fa9-a05ad6ee7799",
   "metadata": {},
   "outputs": [],
   "source": [
    "svm_classifier = SVC()"
   ]
  },
  {
   "cell_type": "code",
   "execution_count": 121,
   "id": "d5d39881-c3d8-4b47-9196-55f7b42f0f16",
   "metadata": {},
   "outputs": [
    {
     "data": {
      "text/html": [
       "<style>#sk-container-id-5 {color: black;}#sk-container-id-5 pre{padding: 0;}#sk-container-id-5 div.sk-toggleable {background-color: white;}#sk-container-id-5 label.sk-toggleable__label {cursor: pointer;display: block;width: 100%;margin-bottom: 0;padding: 0.3em;box-sizing: border-box;text-align: center;}#sk-container-id-5 label.sk-toggleable__label-arrow:before {content: \"▸\";float: left;margin-right: 0.25em;color: #696969;}#sk-container-id-5 label.sk-toggleable__label-arrow:hover:before {color: black;}#sk-container-id-5 div.sk-estimator:hover label.sk-toggleable__label-arrow:before {color: black;}#sk-container-id-5 div.sk-toggleable__content {max-height: 0;max-width: 0;overflow: hidden;text-align: left;background-color: #f0f8ff;}#sk-container-id-5 div.sk-toggleable__content pre {margin: 0.2em;color: black;border-radius: 0.25em;background-color: #f0f8ff;}#sk-container-id-5 input.sk-toggleable__control:checked~div.sk-toggleable__content {max-height: 200px;max-width: 100%;overflow: auto;}#sk-container-id-5 input.sk-toggleable__control:checked~label.sk-toggleable__label-arrow:before {content: \"▾\";}#sk-container-id-5 div.sk-estimator input.sk-toggleable__control:checked~label.sk-toggleable__label {background-color: #d4ebff;}#sk-container-id-5 div.sk-label input.sk-toggleable__control:checked~label.sk-toggleable__label {background-color: #d4ebff;}#sk-container-id-5 input.sk-hidden--visually {border: 0;clip: rect(1px 1px 1px 1px);clip: rect(1px, 1px, 1px, 1px);height: 1px;margin: -1px;overflow: hidden;padding: 0;position: absolute;width: 1px;}#sk-container-id-5 div.sk-estimator {font-family: monospace;background-color: #f0f8ff;border: 1px dotted black;border-radius: 0.25em;box-sizing: border-box;margin-bottom: 0.5em;}#sk-container-id-5 div.sk-estimator:hover {background-color: #d4ebff;}#sk-container-id-5 div.sk-parallel-item::after {content: \"\";width: 100%;border-bottom: 1px solid gray;flex-grow: 1;}#sk-container-id-5 div.sk-label:hover label.sk-toggleable__label {background-color: #d4ebff;}#sk-container-id-5 div.sk-serial::before {content: \"\";position: absolute;border-left: 1px solid gray;box-sizing: border-box;top: 0;bottom: 0;left: 50%;z-index: 0;}#sk-container-id-5 div.sk-serial {display: flex;flex-direction: column;align-items: center;background-color: white;padding-right: 0.2em;padding-left: 0.2em;position: relative;}#sk-container-id-5 div.sk-item {position: relative;z-index: 1;}#sk-container-id-5 div.sk-parallel {display: flex;align-items: stretch;justify-content: center;background-color: white;position: relative;}#sk-container-id-5 div.sk-item::before, #sk-container-id-5 div.sk-parallel-item::before {content: \"\";position: absolute;border-left: 1px solid gray;box-sizing: border-box;top: 0;bottom: 0;left: 50%;z-index: -1;}#sk-container-id-5 div.sk-parallel-item {display: flex;flex-direction: column;z-index: 1;position: relative;background-color: white;}#sk-container-id-5 div.sk-parallel-item:first-child::after {align-self: flex-end;width: 50%;}#sk-container-id-5 div.sk-parallel-item:last-child::after {align-self: flex-start;width: 50%;}#sk-container-id-5 div.sk-parallel-item:only-child::after {width: 0;}#sk-container-id-5 div.sk-dashed-wrapped {border: 1px dashed gray;margin: 0 0.4em 0.5em 0.4em;box-sizing: border-box;padding-bottom: 0.4em;background-color: white;}#sk-container-id-5 div.sk-label label {font-family: monospace;font-weight: bold;display: inline-block;line-height: 1.2em;}#sk-container-id-5 div.sk-label-container {text-align: center;}#sk-container-id-5 div.sk-container {/* jupyter's `normalize.less` sets `[hidden] { display: none; }` but bootstrap.min.css set `[hidden] { display: none !important; }` so we also need the `!important` here to be able to override the default hidden behavior on the sphinx rendered scikit-learn.org. See: https://github.com/scikit-learn/scikit-learn/issues/21755 */display: inline-block !important;position: relative;}#sk-container-id-5 div.sk-text-repr-fallback {display: none;}</style><div id=\"sk-container-id-5\" class=\"sk-top-container\"><div class=\"sk-text-repr-fallback\"><pre>SVC()</pre><b>In a Jupyter environment, please rerun this cell to show the HTML representation or trust the notebook. <br />On GitHub, the HTML representation is unable to render, please try loading this page with nbviewer.org.</b></div><div class=\"sk-container\" hidden><div class=\"sk-item\"><div class=\"sk-estimator sk-toggleable\"><input class=\"sk-toggleable__control sk-hidden--visually\" id=\"sk-estimator-id-5\" type=\"checkbox\" checked><label for=\"sk-estimator-id-5\" class=\"sk-toggleable__label sk-toggleable__label-arrow\">SVC</label><div class=\"sk-toggleable__content\"><pre>SVC()</pre></div></div></div></div></div>"
      ],
      "text/plain": [
       "SVC()"
      ]
     },
     "execution_count": 121,
     "metadata": {},
     "output_type": "execute_result"
    }
   ],
   "source": [
    "svm_classifier.fit(X_train, y_train)"
   ]
  },
  {
   "cell_type": "code",
   "execution_count": 122,
   "id": "1f2dad2e-67ce-44e6-ad30-aa1c1fa361b7",
   "metadata": {},
   "outputs": [
    {
     "data": {
      "image/png": "[encoded data removed]",
      "text/plain": [
       "<Figure size 640x480 with 2 Axes>"
      ]
     },
     "metadata": {},
     "output_type": "display_data"
    },
    {
     "name": "stdout",
     "output_type": "stream",
     "text": [
      "\n",
      "Accuracy: 0.97\n",
      "\n",
      "Classification Report:\n",
      "               precision    recall  f1-score   support\n",
      "\n",
      "           0       0.97      0.96      0.97      3987\n",
      "           1       0.96      0.97      0.97      4013\n",
      "\n",
      "    accuracy                           0.97      8000\n",
      "   macro avg       0.97      0.97      0.97      8000\n",
      "weighted avg       0.97      0.97      0.97      8000\n",
      "\n",
      "\n",
      "Error Rates and Additional Analysis:\n",
      "False Positive Rate (FPR): 0.04\n",
      "False Negative Rate (FNR): 0.03\n",
      "True Positive Rate (TPR): 0.97\n",
      "True Negative Rate (TNR): 0.96\n",
      "\n",
      "Summary of Errors:\n",
      "Total Mistakes (FP + FN): 245\n",
      "Error Rate: 0.03\n"
     ]
    }
   ],
   "source": [
    "y_pred_train = svm_classifier.predict(X_train)\n",
    "model_evaluation(y_train, y_pred_train)"
   ]
  },
  {
   "cell_type": "code",
   "execution_count": 123,
   "id": "a3d10d76-4658-4136-ac4d-f5599b109ba9",
   "metadata": {},
   "outputs": [
    {
     "data": {
      "image/png": "[encoded data removed]",
      "text/plain": [
       "<Figure size 640x480 with 2 Axes>"
      ]
     },
     "metadata": {},
     "output_type": "display_data"
    },
    {
     "name": "stdout",
     "output_type": "stream",
     "text": [
      "\n",
      "Accuracy: 0.93\n",
      "\n",
      "Classification Report:\n",
      "               precision    recall  f1-score   support\n",
      "\n",
      "           0       0.93      0.93      0.93      1013\n",
      "           1       0.92      0.93      0.93       987\n",
      "\n",
      "    accuracy                           0.93      2000\n",
      "   macro avg       0.93      0.93      0.93      2000\n",
      "weighted avg       0.93      0.93      0.93      2000\n",
      "\n",
      "\n",
      "Error Rates and Additional Analysis:\n",
      "False Positive Rate (FPR): 0.07\n",
      "False Negative Rate (FNR): 0.07\n",
      "True Positive Rate (TPR): 0.93\n",
      "True Negative Rate (TNR): 0.93\n",
      "\n",
      "Summary of Errors:\n",
      "Total Mistakes (FP + FN): 142\n",
      "Error Rate: 0.07\n"
     ]
    }
   ],
   "source": [
    "y_pred_test = svm_classifier.predict(X_test)\n",
    "model_evaluation(y_test, y_pred_test)"
   ]
  },
  {
   "cell_type": "code",
   "execution_count": null,
   "id": "217efc61-5a9b-43fb-b484-22050135d17c",
   "metadata": {},
   "outputs": [],
   "source": []
  },
  {
   "cell_type": "code",
   "execution_count": null,
   "id": "1ca29fd5-88e8-4c38-a820-234a9040db76",
   "metadata": {},
   "outputs": [],
   "source": []
  },
  {
   "cell_type": "markdown",
   "id": "f80ca1cf-3bf5-4719-9d27-dec090bc37a0",
   "metadata": {
    "jp-MarkdownHeadingCollapsed": true
   },
   "source": [
    "# Random Forest Model"
   ]
  },
  {
   "cell_type": "code",
   "execution_count": 139,
   "id": "f339f8dc-4fd6-490b-b4c6-4a8e9cf5826b",
   "metadata": {},
   "outputs": [],
   "source": [
    "from sklearn.ensemble import RandomForestClassifier"
   ]
  },
  {
   "cell_type": "code",
   "execution_count": 140,
   "id": "e2529905-b513-4876-91f4-d4ba1685ab70",
   "metadata": {},
   "outputs": [],
   "source": [
    "# from sklearn.model_selection import cross_val_score"
   ]
  },
  {
   "cell_type": "code",
   "execution_count": 141,
   "id": "f7866da3-2031-479d-bce4-6ad26638d955",
   "metadata": {},
   "outputs": [],
   "source": [
    "from skopt import BayesSearchCV\n",
    "from skopt.space import Real, Integer"
   ]
  },
  {
   "cell_type": "code",
   "execution_count": 142,
   "id": "b1d1c9aa-4fdf-4de1-8efc-fc8d53b2ca84",
   "metadata": {},
   "outputs": [],
   "source": [
    "random_forest_classifier = RandomForestClassifier()"
   ]
  },
  {
   "cell_type": "code",
   "execution_count": 145,
   "id": "5948a421-dcdc-4943-966e-fd7bddfe7c66",
   "metadata": {},
   "outputs": [
    {
     "data": {
      "text/html": [
       "<style>#sk-container-id-10 {color: black;}#sk-container-id-10 pre{padding: 0;}#sk-container-id-10 div.sk-toggleable {background-color: white;}#sk-container-id-10 label.sk-toggleable__label {cursor: pointer;display: block;width: 100%;margin-bottom: 0;padding: 0.3em;box-sizing: border-box;text-align: center;}#sk-container-id-10 label.sk-toggleable__label-arrow:before {content: \"▸\";float: left;margin-right: 0.25em;color: #696969;}#sk-container-id-10 label.sk-toggleable__label-arrow:hover:before {color: black;}#sk-container-id-10 div.sk-estimator:hover label.sk-toggleable__label-arrow:before {color: black;}#sk-container-id-10 div.sk-toggleable__content {max-height: 0;max-width: 0;overflow: hidden;text-align: left;background-color: #f0f8ff;}#sk-container-id-10 div.sk-toggleable__content pre {margin: 0.2em;color: black;border-radius: 0.25em;background-color: #f0f8ff;}#sk-container-id-10 input.sk-toggleable__control:checked~div.sk-toggleable__content {max-height: 200px;max-width: 100%;overflow: auto;}#sk-container-id-10 input.sk-toggleable__control:checked~label.sk-toggleable__label-arrow:before {content: \"▾\";}#sk-container-id-10 div.sk-estimator input.sk-toggleable__control:checked~label.sk-toggleable__label {background-color: #d4ebff;}#sk-container-id-10 div.sk-label input.sk-toggleable__control:checked~label.sk-toggleable__label {background-color: #d4ebff;}#sk-container-id-10 input.sk-hidden--visually {border: 0;clip: rect(1px 1px 1px 1px);clip: rect(1px, 1px, 1px, 1px);height: 1px;margin: -1px;overflow: hidden;padding: 0;position: absolute;width: 1px;}#sk-container-id-10 div.sk-estimator {font-family: monospace;background-color: #f0f8ff;border: 1px dotted black;border-radius: 0.25em;box-sizing: border-box;margin-bottom: 0.5em;}#sk-container-id-10 div.sk-estimator:hover {background-color: #d4ebff;}#sk-container-id-10 div.sk-parallel-item::after {content: \"\";width: 100%;border-bottom: 1px solid gray;flex-grow: 1;}#sk-container-id-10 div.sk-label:hover label.sk-toggleable__label {background-color: #d4ebff;}#sk-container-id-10 div.sk-serial::before {content: \"\";position: absolute;border-left: 1px solid gray;box-sizing: border-box;top: 0;bottom: 0;left: 50%;z-index: 0;}#sk-container-id-10 div.sk-serial {display: flex;flex-direction: column;align-items: center;background-color: white;padding-right: 0.2em;padding-left: 0.2em;position: relative;}#sk-container-id-10 div.sk-item {position: relative;z-index: 1;}#sk-container-id-10 div.sk-parallel {display: flex;align-items: stretch;justify-content: center;background-color: white;position: relative;}#sk-container-id-10 div.sk-item::before, #sk-container-id-10 div.sk-parallel-item::before {content: \"\";position: absolute;border-left: 1px solid gray;box-sizing: border-box;top: 0;bottom: 0;left: 50%;z-index: -1;}#sk-container-id-10 div.sk-parallel-item {display: flex;flex-direction: column;z-index: 1;position: relative;background-color: white;}#sk-container-id-10 div.sk-parallel-item:first-child::after {align-self: flex-end;width: 50%;}#sk-container-id-10 div.sk-parallel-item:last-child::after {align-self: flex-start;width: 50%;}#sk-container-id-10 div.sk-parallel-item:only-child::after {width: 0;}#sk-container-id-10 div.sk-dashed-wrapped {border: 1px dashed gray;margin: 0 0.4em 0.5em 0.4em;box-sizing: border-box;padding-bottom: 0.4em;background-color: white;}#sk-container-id-10 div.sk-label label {font-family: monospace;font-weight: bold;display: inline-block;line-height: 1.2em;}#sk-container-id-10 div.sk-label-container {text-align: center;}#sk-container-id-10 div.sk-container {/* jupyter's `normalize.less` sets `[hidden] { display: none; }` but bootstrap.min.css set `[hidden] { display: none !important; }` so we also need the `!important` here to be able to override the default hidden behavior on the sphinx rendered scikit-learn.org. See: https://github.com/scikit-learn/scikit-learn/issues/21755 */display: inline-block !important;position: relative;}#sk-container-id-10 div.sk-text-repr-fallback {display: none;}</style><div id=\"sk-container-id-10\" class=\"sk-top-container\"><div class=\"sk-text-repr-fallback\"><pre>RandomForestClassifier()</pre><b>In a Jupyter environment, please rerun this cell to show the HTML representation or trust the notebook. <br />On GitHub, the HTML representation is unable to render, please try loading this page with nbviewer.org.</b></div><div class=\"sk-container\" hidden><div class=\"sk-item\"><div class=\"sk-estimator sk-toggleable\"><input class=\"sk-toggleable__control sk-hidden--visually\" id=\"sk-estimator-id-12\" type=\"checkbox\" checked><label for=\"sk-estimator-id-12\" class=\"sk-toggleable__label sk-toggleable__label-arrow\">RandomForestClassifier</label><div class=\"sk-toggleable__content\"><pre>RandomForestClassifier()</pre></div></div></div></div></div>"
      ],
      "text/plain": [
       "RandomForestClassifier()"
      ]
     },
     "execution_count": 145,
     "metadata": {},
     "output_type": "execute_result"
    }
   ],
   "source": [
    "random_forest_classifier.fit(X_train, y_train)"
   ]
  },
  {
   "cell_type": "code",
   "execution_count": 146,
   "id": "d2ea6736-628f-410d-b9fb-33c805fe82e9",
   "metadata": {},
   "outputs": [],
   "source": [
    "# scores = cross_val_score(random_forest_classifier, X_train, y_train, cv=5, scoring='accuracy')"
   ]
  },
  {
   "cell_type": "code",
   "execution_count": 147,
   "id": "1c4746af-2bb6-4b81-954a-2db91a313430",
   "metadata": {},
   "outputs": [
    {
     "data": {
      "image/png": "[encoded data removed]",
      "text/plain": [
       "<Figure size 640x480 with 2 Axes>"
      ]
     },
     "metadata": {},
     "output_type": "display_data"
    },
    {
     "name": "stdout",
     "output_type": "stream",
     "text": [
      "\n",
      "Accuracy: 1.00\n",
      "\n",
      "Classification Report:\n",
      "               precision    recall  f1-score   support\n",
      "\n",
      "           0       1.00      1.00      1.00      3987\n",
      "           1       1.00      1.00      1.00      4013\n",
      "\n",
      "    accuracy                           1.00      8000\n",
      "   macro avg       1.00      1.00      1.00      8000\n",
      "weighted avg       1.00      1.00      1.00      8000\n",
      "\n",
      "\n",
      "Error Rates and Additional Analysis:\n",
      "False Positive Rate (FPR): 0.00\n",
      "False Negative Rate (FNR): 0.00\n",
      "True Positive Rate (TPR): 1.00\n",
      "True Negative Rate (TNR): 1.00\n",
      "\n",
      "Summary of Errors:\n",
      "Total Mistakes (FP + FN): 0\n",
      "Error Rate: 0.00\n"
     ]
    }
   ],
   "source": [
    "y_pred_train = random_forest_classifier.predict(X_train)\n",
    "model_evaluation(y_train, y_pred_train)"
   ]
  },
  {
   "cell_type": "code",
   "execution_count": 149,
   "id": "c9d90625-e24d-4f24-b92d-fb56cda720a0",
   "metadata": {},
   "outputs": [
    {
     "data": {
      "image/png": "[encoded data removed]",
      "text/plain": [
       "<Figure size 640x480 with 2 Axes>"
      ]
     },
     "metadata": {},
     "output_type": "display_data"
    },
    {
     "name": "stdout",
     "output_type": "stream",
     "text": [
      "\n",
      "Accuracy: 0.87\n",
      "\n",
      "Classification Report:\n",
      "               precision    recall  f1-score   support\n",
      "\n",
      "           0       0.89      0.85      0.87      1013\n",
      "           1       0.86      0.89      0.87       987\n",
      "\n",
      "    accuracy                           0.87      2000\n",
      "   macro avg       0.87      0.87      0.87      2000\n",
      "weighted avg       0.87      0.87      0.87      2000\n",
      "\n",
      "\n",
      "Error Rates and Additional Analysis:\n",
      "False Positive Rate (FPR): 0.15\n",
      "False Negative Rate (FNR): 0.11\n",
      "True Positive Rate (TPR): 0.89\n",
      "True Negative Rate (TNR): 0.85\n",
      "\n",
      "Summary of Errors:\n",
      "Total Mistakes (FP + FN): 259\n",
      "Error Rate: 0.13\n"
     ]
    }
   ],
   "source": [
    "y_pred_test = random_forest_classifier.predict(X_test)\n",
    "model_evaluation(y_test, y_pred_test)"
   ]
  },
  {
   "cell_type": "code",
   "execution_count": 174,
   "id": "d38822c0-4f62-43d4-8558-261900acf3c1",
   "metadata": {},
   "outputs": [],
   "source": [
    "param_space = {\n",
    "    'n_estimators': Integer(50, 250),\n",
    "    'max_depth': Integer(10, 70),\n",
    "    'min_samples_split': Integer(2, 20),\n",
    "    'criterion' : ('gini', 'entropy', 'log_loss')\n",
    "}"
   ]
  },
  {
   "cell_type": "code",
   "execution_count": 175,
   "id": "407d8cae-185c-41e0-bfd0-00395d99ef9a",
   "metadata": {},
   "outputs": [],
   "source": [
    "bayes_search = BayesSearchCV(\n",
    "    estimator=random_forest_classifier,\n",
    "    search_spaces=param_space,\n",
    "    n_iter=30,                  \n",
    "    cv=5,                       \n",
    "    scoring='accuracy',         \n",
    "    random_state=42\n",
    ")\n"
   ]
  },
  {
   "cell_type": "code",
   "execution_count": 176,
   "id": "6ec9442f-6b92-42b7-8e48-959f9777ef44",
   "metadata": {},
   "outputs": [
    {
     "data": {
      "text/html": [
       "<style>#sk-container-id-16 {color: black;}#sk-container-id-16 pre{padding: 0;}#sk-container-id-16 div.sk-toggleable {background-color: white;}#sk-container-id-16 label.sk-toggleable__label {cursor: pointer;display: block;width: 100%;margin-bottom: 0;padding: 0.3em;box-sizing: border-box;text-align: center;}#sk-container-id-16 label.sk-toggleable__label-arrow:before {content: \"▸\";float: left;margin-right: 0.25em;color: #696969;}#sk-container-id-16 label.sk-toggleable__label-arrow:hover:before {color: black;}#sk-container-id-16 div.sk-estimator:hover label.sk-toggleable__label-arrow:before {color: black;}#sk-container-id-16 div.sk-toggleable__content {max-height: 0;max-width: 0;overflow: hidden;text-align: left;background-color: #f0f8ff;}#sk-container-id-16 div.sk-toggleable__content pre {margin: 0.2em;color: black;border-radius: 0.25em;background-color: #f0f8ff;}#sk-container-id-16 input.sk-toggleable__control:checked~div.sk-toggleable__content {max-height: 200px;max-width: 100%;overflow: auto;}#sk-container-id-16 input.sk-toggleable__control:checked~label.sk-toggleable__label-arrow:before {content: \"▾\";}#sk-container-id-16 div.sk-estimator input.sk-toggleable__control:checked~label.sk-toggleable__label {background-color: #d4ebff;}#sk-container-id-16 div.sk-label input.sk-toggleable__control:checked~label.sk-toggleable__label {background-color: #d4ebff;}#sk-container-id-16 input.sk-hidden--visually {border: 0;clip: rect(1px 1px 1px 1px);clip: rect(1px, 1px, 1px, 1px);height: 1px;margin: -1px;overflow: hidden;padding: 0;position: absolute;width: 1px;}#sk-container-id-16 div.sk-estimator {font-family: monospace;background-color: #f0f8ff;border: 1px dotted black;border-radius: 0.25em;box-sizing: border-box;margin-bottom: 0.5em;}#sk-container-id-16 div.sk-estimator:hover {background-color: #d4ebff;}#sk-container-id-16 div.sk-parallel-item::after {content: \"\";width: 100%;border-bottom: 1px solid gray;flex-grow: 1;}#sk-container-id-16 div.sk-label:hover label.sk-toggleable__label {background-color: #d4ebff;}#sk-container-id-16 div.sk-serial::before {content: \"\";position: absolute;border-left: 1px solid gray;box-sizing: border-box;top: 0;bottom: 0;left: 50%;z-index: 0;}#sk-container-id-16 div.sk-serial {display: flex;flex-direction: column;align-items: center;background-color: white;padding-right: 0.2em;padding-left: 0.2em;position: relative;}#sk-container-id-16 div.sk-item {position: relative;z-index: 1;}#sk-container-id-16 div.sk-parallel {display: flex;align-items: stretch;justify-content: center;background-color: white;position: relative;}#sk-container-id-16 div.sk-item::before, #sk-container-id-16 div.sk-parallel-item::before {content: \"\";position: absolute;border-left: 1px solid gray;box-sizing: border-box;top: 0;bottom: 0;left: 50%;z-index: -1;}#sk-container-id-16 div.sk-parallel-item {display: flex;flex-direction: column;z-index: 1;position: relative;background-color: white;}#sk-container-id-16 div.sk-parallel-item:first-child::after {align-self: flex-end;width: 50%;}#sk-container-id-16 div.sk-parallel-item:last-child::after {align-self: flex-start;width: 50%;}#sk-container-id-16 div.sk-parallel-item:only-child::after {width: 0;}#sk-container-id-16 div.sk-dashed-wrapped {border: 1px dashed gray;margin: 0 0.4em 0.5em 0.4em;box-sizing: border-box;padding-bottom: 0.4em;background-color: white;}#sk-container-id-16 div.sk-label label {font-family: monospace;font-weight: bold;display: inline-block;line-height: 1.2em;}#sk-container-id-16 div.sk-label-container {text-align: center;}#sk-container-id-16 div.sk-container {/* jupyter's `normalize.less` sets `[hidden] { display: none; }` but bootstrap.min.css set `[hidden] { display: none !important; }` so we also need the `!important` here to be able to override the default hidden behavior on the sphinx rendered scikit-learn.org. See: https://github.com/scikit-learn/scikit-learn/issues/21755 */display: inline-block !important;position: relative;}#sk-container-id-16 div.sk-text-repr-fallback {display: none;}</style><div id=\"sk-container-id-16\" class=\"sk-top-container\"><div class=\"sk-text-repr-fallback\"><pre>BayesSearchCV(cv=5, estimator=RandomForestClassifier(n_estimators=150),\n",
       "              n_iter=30, random_state=42, scoring=&#x27;accuracy&#x27;,\n",
       "              search_spaces={&#x27;criterion&#x27;: (&#x27;gini&#x27;, &#x27;entropy&#x27;, &#x27;log_loss&#x27;),\n",
       "                             &#x27;max_depth&#x27;: (10, 25, 50, 70),\n",
       "                             &#x27;min_samples_split&#x27;: (2, 10, 20),\n",
       "                             &#x27;n_estimators&#x27;: (50, 100, 150, 200, 250)})</pre><b>In a Jupyter environment, please rerun this cell to show the HTML representation or trust the notebook. <br />On GitHub, the HTML representation is unable to render, please try loading this page with nbviewer.org.</b></div><div class=\"sk-container\" hidden><div class=\"sk-item sk-dashed-wrapped\"><div class=\"sk-label-container\"><div class=\"sk-label sk-toggleable\"><input class=\"sk-toggleable__control sk-hidden--visually\" id=\"sk-estimator-id-16\" type=\"checkbox\" ><label for=\"sk-estimator-id-16\" class=\"sk-toggleable__label sk-toggleable__label-arrow\">BayesSearchCV</label><div class=\"sk-toggleable__content\"><pre>BayesSearchCV(cv=5, estimator=RandomForestClassifier(n_estimators=150),\n",
       "              n_iter=30, random_state=42, scoring=&#x27;accuracy&#x27;,\n",
       "              search_spaces={&#x27;criterion&#x27;: (&#x27;gini&#x27;, &#x27;entropy&#x27;, &#x27;log_loss&#x27;),\n",
       "                             &#x27;max_depth&#x27;: (10, 25, 50, 70),\n",
       "                             &#x27;min_samples_split&#x27;: (2, 10, 20),\n",
       "                             &#x27;n_estimators&#x27;: (50, 100, 150, 200, 250)})</pre></div></div></div><div class=\"sk-parallel\"><div class=\"sk-parallel-item\"><div class=\"sk-item\"><div class=\"sk-label-container\"><div class=\"sk-label sk-toggleable\"><input class=\"sk-toggleable__control sk-hidden--visually\" id=\"sk-estimator-id-17\" type=\"checkbox\" ><label for=\"sk-estimator-id-17\" class=\"sk-toggleable__label sk-toggleable__label-arrow\">estimator: RandomForestClassifier</label><div class=\"sk-toggleable__content\"><pre>RandomForestClassifier(n_estimators=150)</pre></div></div></div><div class=\"sk-serial\"><div class=\"sk-item\"><div class=\"sk-estimator sk-toggleable\"><input class=\"sk-toggleable__control sk-hidden--visually\" id=\"sk-estimator-id-18\" type=\"checkbox\" ><label for=\"sk-estimator-id-18\" class=\"sk-toggleable__label sk-toggleable__label-arrow\">RandomForestClassifier</label><div class=\"sk-toggleable__content\"><pre>RandomForestClassifier(n_estimators=150)</pre></div></div></div></div></div></div></div></div></div></div>"
      ],
      "text/plain": [
       "BayesSearchCV(cv=5, estimator=RandomForestClassifier(n_estimators=150),\n",
       "              n_iter=30, random_state=42, scoring='accuracy',\n",
       "              search_spaces={'criterion': ('gini', 'entropy', 'log_loss'),\n",
       "                             'max_depth': (10, 25, 50, 70),\n",
       "                             'min_samples_split': (2, 10, 20),\n",
       "                             'n_estimators': (50, 100, 150, 200, 250)})"
      ]
     },
     "execution_count": 176,
     "metadata": {},
     "output_type": "execute_result"
    }
   ],
   "source": [
    "bayes_search.fit(X_train, y_train)"
   ]
  },
  {
   "cell_type": "code",
   "execution_count": 179,
   "id": "9b84d4ee-d5da-49d7-b5bb-554b86c2fdf2",
   "metadata": {},
   "outputs": [],
   "source": [
    "cv_results = pd.DataFrame(bayes_search.cv_results_)"
   ]
  },
  {
   "cell_type": "code",
   "execution_count": 180,
   "id": "2652efc1-42a3-4f98-bd40-6e2a281e9a15",
   "metadata": {
    "scrolled": true
   },
   "outputs": [
    {
     "data": {
      "text/html": [
       "<div>\n",
       "<style scoped>\n",
       "    .dataframe tbody tr th:only-of-type {\n",
       "        vertical-align: middle;\n",
       "    }\n",
       "\n",
       "    .dataframe tbody tr th {\n",
       "        vertical-align: top;\n",
       "    }\n",
       "\n",
       "    .dataframe thead th {\n",
       "        text-align: right;\n",
       "    }\n",
       "</style>\n",
       "<table border=\"1\" class=\"dataframe\">\n",
       "  <thead>\n",
       "    <tr style=\"text-align: right;\">\n",
       "      <th></th>\n",
       "      <th>mean_fit_time</th>\n",
       "      <th>std_fit_time</th>\n",
       "      <th>mean_score_time</th>\n",
       "      <th>std_score_time</th>\n",
       "      <th>param_criterion</th>\n",
       "      <th>param_max_depth</th>\n",
       "      <th>param_min_samples_split</th>\n",
       "      <th>param_n_estimators</th>\n",
       "      <th>params</th>\n",
       "      <th>split0_test_score</th>\n",
       "      <th>split1_test_score</th>\n",
       "      <th>split2_test_score</th>\n",
       "      <th>split3_test_score</th>\n",
       "      <th>split4_test_score</th>\n",
       "      <th>mean_test_score</th>\n",
       "      <th>std_test_score</th>\n",
       "      <th>rank_test_score</th>\n",
       "    </tr>\n",
       "  </thead>\n",
       "  <tbody>\n",
       "    <tr>\n",
       "      <th>0</th>\n",
       "      <td>2.580787</td>\n",
       "      <td>0.145036</td>\n",
       "      <td>0.015399</td>\n",
       "      <td>0.001358</td>\n",
       "      <td>entropy</td>\n",
       "      <td>50</td>\n",
       "      <td>20</td>\n",
       "      <td>100</td>\n",
       "      <td>{'criterion': 'entropy', 'max_depth': 50, 'min...</td>\n",
       "      <td>0.82500</td>\n",
       "      <td>0.85625</td>\n",
       "      <td>0.84375</td>\n",
       "      <td>0.84375</td>\n",
       "      <td>0.81250</td>\n",
       "      <td>0.83625</td>\n",
       "      <td>0.015512</td>\n",
       "      <td>15</td>\n",
       "    </tr>\n",
       "    <tr>\n",
       "      <th>1</th>\n",
       "      <td>6.756424</td>\n",
       "      <td>0.286201</td>\n",
       "      <td>0.039188</td>\n",
       "      <td>0.005033</td>\n",
       "      <td>log_loss</td>\n",
       "      <td>70</td>\n",
       "      <td>2</td>\n",
       "      <td>250</td>\n",
       "      <td>{'criterion': 'log_loss', 'max_depth': 70, 'mi...</td>\n",
       "      <td>0.81875</td>\n",
       "      <td>0.85625</td>\n",
       "      <td>0.86875</td>\n",
       "      <td>0.81875</td>\n",
       "      <td>0.80000</td>\n",
       "      <td>0.83250</td>\n",
       "      <td>0.025739</td>\n",
       "      <td>17</td>\n",
       "    </tr>\n",
       "    <tr>\n",
       "      <th>2</th>\n",
       "      <td>4.273878</td>\n",
       "      <td>0.312250</td>\n",
       "      <td>0.023393</td>\n",
       "      <td>0.001959</td>\n",
       "      <td>entropy</td>\n",
       "      <td>70</td>\n",
       "      <td>2</td>\n",
       "      <td>150</td>\n",
       "      <td>{'criterion': 'entropy', 'max_depth': 70, 'min...</td>\n",
       "      <td>0.81875</td>\n",
       "      <td>0.84375</td>\n",
       "      <td>0.87500</td>\n",
       "      <td>0.80000</td>\n",
       "      <td>0.85000</td>\n",
       "      <td>0.83750</td>\n",
       "      <td>0.025921</td>\n",
       "      <td>14</td>\n",
       "    </tr>\n",
       "    <tr>\n",
       "      <th>3</th>\n",
       "      <td>6.530433</td>\n",
       "      <td>0.256340</td>\n",
       "      <td>0.035178</td>\n",
       "      <td>0.001466</td>\n",
       "      <td>log_loss</td>\n",
       "      <td>10</td>\n",
       "      <td>10</td>\n",
       "      <td>250</td>\n",
       "      <td>{'criterion': 'log_loss', 'max_depth': 10, 'mi...</td>\n",
       "      <td>0.84375</td>\n",
       "      <td>0.85000</td>\n",
       "      <td>0.88125</td>\n",
       "      <td>0.83125</td>\n",
       "      <td>0.82500</td>\n",
       "      <td>0.84625</td>\n",
       "      <td>0.019605</td>\n",
       "      <td>5</td>\n",
       "    </tr>\n",
       "    <tr>\n",
       "      <th>4</th>\n",
       "      <td>5.303402</td>\n",
       "      <td>0.162794</td>\n",
       "      <td>0.030587</td>\n",
       "      <td>0.004119</td>\n",
       "      <td>log_loss</td>\n",
       "      <td>25</td>\n",
       "      <td>10</td>\n",
       "      <td>200</td>\n",
       "      <td>{'criterion': 'log_loss', 'max_depth': 25, 'mi...</td>\n",
       "      <td>0.82500</td>\n",
       "      <td>0.86250</td>\n",
       "      <td>0.85625</td>\n",
       "      <td>0.83750</td>\n",
       "      <td>0.82500</td>\n",
       "      <td>0.84125</td>\n",
       "      <td>0.015612</td>\n",
       "      <td>9</td>\n",
       "    </tr>\n",
       "    <tr>\n",
       "      <th>5</th>\n",
       "      <td>1.268390</td>\n",
       "      <td>0.012591</td>\n",
       "      <td>0.008198</td>\n",
       "      <td>0.000748</td>\n",
       "      <td>log_loss</td>\n",
       "      <td>70</td>\n",
       "      <td>2</td>\n",
       "      <td>50</td>\n",
       "      <td>{'criterion': 'log_loss', 'max_depth': 70, 'mi...</td>\n",
       "      <td>0.81250</td>\n",
       "      <td>0.81250</td>\n",
       "      <td>0.81875</td>\n",
       "      <td>0.81875</td>\n",
       "      <td>0.83750</td>\n",
       "      <td>0.82000</td>\n",
       "      <td>0.009186</td>\n",
       "      <td>24</td>\n",
       "    </tr>\n",
       "    <tr>\n",
       "      <th>6</th>\n",
       "      <td>6.656054</td>\n",
       "      <td>0.266005</td>\n",
       "      <td>0.035189</td>\n",
       "      <td>0.002322</td>\n",
       "      <td>entropy</td>\n",
       "      <td>70</td>\n",
       "      <td>10</td>\n",
       "      <td>250</td>\n",
       "      <td>{'criterion': 'entropy', 'max_depth': 70, 'min...</td>\n",
       "      <td>0.85000</td>\n",
       "      <td>0.86875</td>\n",
       "      <td>0.89375</td>\n",
       "      <td>0.82500</td>\n",
       "      <td>0.84375</td>\n",
       "      <td>0.85625</td>\n",
       "      <td>0.023385</td>\n",
       "      <td>1</td>\n",
       "    </tr>\n",
       "    <tr>\n",
       "      <th>7</th>\n",
       "      <td>6.484534</td>\n",
       "      <td>0.125587</td>\n",
       "      <td>0.040384</td>\n",
       "      <td>0.011017</td>\n",
       "      <td>entropy</td>\n",
       "      <td>70</td>\n",
       "      <td>10</td>\n",
       "      <td>250</td>\n",
       "      <td>{'criterion': 'entropy', 'max_depth': 70, 'min...</td>\n",
       "      <td>0.83750</td>\n",
       "      <td>0.85625</td>\n",
       "      <td>0.85625</td>\n",
       "      <td>0.81875</td>\n",
       "      <td>0.83125</td>\n",
       "      <td>0.84000</td>\n",
       "      <td>0.014577</td>\n",
       "      <td>12</td>\n",
       "    </tr>\n",
       "    <tr>\n",
       "      <th>8</th>\n",
       "      <td>3.836771</td>\n",
       "      <td>0.351215</td>\n",
       "      <td>0.022989</td>\n",
       "      <td>0.003623</td>\n",
       "      <td>log_loss</td>\n",
       "      <td>50</td>\n",
       "      <td>20</td>\n",
       "      <td>150</td>\n",
       "      <td>{'criterion': 'log_loss', 'max_depth': 50, 'mi...</td>\n",
       "      <td>0.84375</td>\n",
       "      <td>0.86875</td>\n",
       "      <td>0.86875</td>\n",
       "      <td>0.82500</td>\n",
       "      <td>0.81250</td>\n",
       "      <td>0.84375</td>\n",
       "      <td>0.022707</td>\n",
       "      <td>6</td>\n",
       "    </tr>\n",
       "    <tr>\n",
       "      <th>9</th>\n",
       "      <td>2.201889</td>\n",
       "      <td>0.017471</td>\n",
       "      <td>0.015196</td>\n",
       "      <td>0.000400</td>\n",
       "      <td>gini</td>\n",
       "      <td>70</td>\n",
       "      <td>20</td>\n",
       "      <td>100</td>\n",
       "      <td>{'criterion': 'gini', 'max_depth': 70, 'min_sa...</td>\n",
       "      <td>0.84375</td>\n",
       "      <td>0.83750</td>\n",
       "      <td>0.84375</td>\n",
       "      <td>0.79375</td>\n",
       "      <td>0.81250</td>\n",
       "      <td>0.82625</td>\n",
       "      <td>0.019922</td>\n",
       "      <td>22</td>\n",
       "    </tr>\n",
       "    <tr>\n",
       "      <th>10</th>\n",
       "      <td>3.860152</td>\n",
       "      <td>0.152932</td>\n",
       "      <td>0.023503</td>\n",
       "      <td>0.003212</td>\n",
       "      <td>entropy</td>\n",
       "      <td>70</td>\n",
       "      <td>10</td>\n",
       "      <td>150</td>\n",
       "      <td>{'criterion': 'entropy', 'max_depth': 70, 'min...</td>\n",
       "      <td>0.82500</td>\n",
       "      <td>0.83750</td>\n",
       "      <td>0.86250</td>\n",
       "      <td>0.80625</td>\n",
       "      <td>0.82500</td>\n",
       "      <td>0.83125</td>\n",
       "      <td>0.018540</td>\n",
       "      <td>18</td>\n",
       "    </tr>\n",
       "    <tr>\n",
       "      <th>11</th>\n",
       "      <td>6.569878</td>\n",
       "      <td>0.342554</td>\n",
       "      <td>0.035392</td>\n",
       "      <td>0.002731</td>\n",
       "      <td>gini</td>\n",
       "      <td>50</td>\n",
       "      <td>10</td>\n",
       "      <td>250</td>\n",
       "      <td>{'criterion': 'gini', 'max_depth': 50, 'min_sa...</td>\n",
       "      <td>0.83125</td>\n",
       "      <td>0.85625</td>\n",
       "      <td>0.87500</td>\n",
       "      <td>0.83125</td>\n",
       "      <td>0.84375</td>\n",
       "      <td>0.84750</td>\n",
       "      <td>0.016583</td>\n",
       "      <td>3</td>\n",
       "    </tr>\n",
       "    <tr>\n",
       "      <th>12</th>\n",
       "      <td>2.529389</td>\n",
       "      <td>0.228629</td>\n",
       "      <td>0.020195</td>\n",
       "      <td>0.007108</td>\n",
       "      <td>gini</td>\n",
       "      <td>70</td>\n",
       "      <td>10</td>\n",
       "      <td>100</td>\n",
       "      <td>{'criterion': 'gini', 'max_depth': 70, 'min_sa...</td>\n",
       "      <td>0.85000</td>\n",
       "      <td>0.85625</td>\n",
       "      <td>0.85625</td>\n",
       "      <td>0.82500</td>\n",
       "      <td>0.82500</td>\n",
       "      <td>0.84250</td>\n",
       "      <td>0.014470</td>\n",
       "      <td>7</td>\n",
       "    </tr>\n",
       "    <tr>\n",
       "      <th>13</th>\n",
       "      <td>3.825766</td>\n",
       "      <td>0.205124</td>\n",
       "      <td>0.021394</td>\n",
       "      <td>0.001019</td>\n",
       "      <td>entropy</td>\n",
       "      <td>25</td>\n",
       "      <td>20</td>\n",
       "      <td>150</td>\n",
       "      <td>{'criterion': 'entropy', 'max_depth': 25, 'min...</td>\n",
       "      <td>0.85000</td>\n",
       "      <td>0.86250</td>\n",
       "      <td>0.86250</td>\n",
       "      <td>0.80000</td>\n",
       "      <td>0.86250</td>\n",
       "      <td>0.84750</td>\n",
       "      <td>0.024238</td>\n",
       "      <td>3</td>\n",
       "    </tr>\n",
       "    <tr>\n",
       "      <th>14</th>\n",
       "      <td>6.386504</td>\n",
       "      <td>0.102839</td>\n",
       "      <td>0.044779</td>\n",
       "      <td>0.011508</td>\n",
       "      <td>log_loss</td>\n",
       "      <td>25</td>\n",
       "      <td>20</td>\n",
       "      <td>250</td>\n",
       "      <td>{'criterion': 'log_loss', 'max_depth': 25, 'mi...</td>\n",
       "      <td>0.81875</td>\n",
       "      <td>0.84375</td>\n",
       "      <td>0.86250</td>\n",
       "      <td>0.82500</td>\n",
       "      <td>0.84375</td>\n",
       "      <td>0.83875</td>\n",
       "      <td>0.015512</td>\n",
       "      <td>13</td>\n",
       "    </tr>\n",
       "    <tr>\n",
       "      <th>15</th>\n",
       "      <td>1.327571</td>\n",
       "      <td>0.101379</td>\n",
       "      <td>0.008601</td>\n",
       "      <td>0.000802</td>\n",
       "      <td>entropy</td>\n",
       "      <td>50</td>\n",
       "      <td>10</td>\n",
       "      <td>50</td>\n",
       "      <td>{'criterion': 'entropy', 'max_depth': 50, 'min...</td>\n",
       "      <td>0.81875</td>\n",
       "      <td>0.82500</td>\n",
       "      <td>0.85000</td>\n",
       "      <td>0.77500</td>\n",
       "      <td>0.83125</td>\n",
       "      <td>0.82000</td>\n",
       "      <td>0.024812</td>\n",
       "      <td>25</td>\n",
       "    </tr>\n",
       "    <tr>\n",
       "      <th>16</th>\n",
       "      <td>5.557007</td>\n",
       "      <td>0.186122</td>\n",
       "      <td>0.035394</td>\n",
       "      <td>0.008794</td>\n",
       "      <td>log_loss</td>\n",
       "      <td>50</td>\n",
       "      <td>2</td>\n",
       "      <td>200</td>\n",
       "      <td>{'criterion': 'log_loss', 'max_depth': 50, 'mi...</td>\n",
       "      <td>0.82500</td>\n",
       "      <td>0.86250</td>\n",
       "      <td>0.84375</td>\n",
       "      <td>0.78125</td>\n",
       "      <td>0.84375</td>\n",
       "      <td>0.83125</td>\n",
       "      <td>0.027670</td>\n",
       "      <td>18</td>\n",
       "    </tr>\n",
       "    <tr>\n",
       "      <th>17</th>\n",
       "      <td>4.257424</td>\n",
       "      <td>0.156885</td>\n",
       "      <td>0.031185</td>\n",
       "      <td>0.012938</td>\n",
       "      <td>entropy</td>\n",
       "      <td>25</td>\n",
       "      <td>2</td>\n",
       "      <td>150</td>\n",
       "      <td>{'criterion': 'entropy', 'max_depth': 25, 'min...</td>\n",
       "      <td>0.82500</td>\n",
       "      <td>0.85625</td>\n",
       "      <td>0.84375</td>\n",
       "      <td>0.82500</td>\n",
       "      <td>0.83125</td>\n",
       "      <td>0.83625</td>\n",
       "      <td>0.012119</td>\n",
       "      <td>16</td>\n",
       "    </tr>\n",
       "    <tr>\n",
       "      <th>18</th>\n",
       "      <td>2.687283</td>\n",
       "      <td>0.107475</td>\n",
       "      <td>0.018789</td>\n",
       "      <td>0.005155</td>\n",
       "      <td>log_loss</td>\n",
       "      <td>50</td>\n",
       "      <td>2</td>\n",
       "      <td>100</td>\n",
       "      <td>{'criterion': 'log_loss', 'max_depth': 50, 'mi...</td>\n",
       "      <td>0.81875</td>\n",
       "      <td>0.81250</td>\n",
       "      <td>0.86250</td>\n",
       "      <td>0.77500</td>\n",
       "      <td>0.80625</td>\n",
       "      <td>0.81500</td>\n",
       "      <td>0.028118</td>\n",
       "      <td>28</td>\n",
       "    </tr>\n",
       "    <tr>\n",
       "      <th>19</th>\n",
       "      <td>6.681246</td>\n",
       "      <td>0.216596</td>\n",
       "      <td>0.048591</td>\n",
       "      <td>0.014029</td>\n",
       "      <td>entropy</td>\n",
       "      <td>50</td>\n",
       "      <td>10</td>\n",
       "      <td>250</td>\n",
       "      <td>{'criterion': 'entropy', 'max_depth': 50, 'min...</td>\n",
       "      <td>0.83125</td>\n",
       "      <td>0.85625</td>\n",
       "      <td>0.85000</td>\n",
       "      <td>0.79375</td>\n",
       "      <td>0.81875</td>\n",
       "      <td>0.83000</td>\n",
       "      <td>0.022500</td>\n",
       "      <td>20</td>\n",
       "    </tr>\n",
       "    <tr>\n",
       "      <th>20</th>\n",
       "      <td>1.257594</td>\n",
       "      <td>0.053946</td>\n",
       "      <td>0.008798</td>\n",
       "      <td>0.000744</td>\n",
       "      <td>gini</td>\n",
       "      <td>70</td>\n",
       "      <td>2</td>\n",
       "      <td>50</td>\n",
       "      <td>{'criterion': 'gini', 'max_depth': 70, 'min_sa...</td>\n",
       "      <td>0.79375</td>\n",
       "      <td>0.85000</td>\n",
       "      <td>0.81875</td>\n",
       "      <td>0.78750</td>\n",
       "      <td>0.77500</td>\n",
       "      <td>0.80500</td>\n",
       "      <td>0.026634</td>\n",
       "      <td>29</td>\n",
       "    </tr>\n",
       "    <tr>\n",
       "      <th>21</th>\n",
       "      <td>6.705843</td>\n",
       "      <td>0.457591</td>\n",
       "      <td>0.041385</td>\n",
       "      <td>0.009660</td>\n",
       "      <td>entropy</td>\n",
       "      <td>50</td>\n",
       "      <td>20</td>\n",
       "      <td>250</td>\n",
       "      <td>{'criterion': 'entropy', 'max_depth': 50, 'min...</td>\n",
       "      <td>0.85000</td>\n",
       "      <td>0.88125</td>\n",
       "      <td>0.83125</td>\n",
       "      <td>0.83750</td>\n",
       "      <td>0.84375</td>\n",
       "      <td>0.84875</td>\n",
       "      <td>0.017410</td>\n",
       "      <td>2</td>\n",
       "    </tr>\n",
       "    <tr>\n",
       "      <th>22</th>\n",
       "      <td>1.345765</td>\n",
       "      <td>0.121780</td>\n",
       "      <td>0.008619</td>\n",
       "      <td>0.000509</td>\n",
       "      <td>log_loss</td>\n",
       "      <td>70</td>\n",
       "      <td>20</td>\n",
       "      <td>50</td>\n",
       "      <td>{'criterion': 'log_loss', 'max_depth': 70, 'mi...</td>\n",
       "      <td>0.80625</td>\n",
       "      <td>0.84375</td>\n",
       "      <td>0.78750</td>\n",
       "      <td>0.83125</td>\n",
       "      <td>0.81875</td>\n",
       "      <td>0.81750</td>\n",
       "      <td>0.019526</td>\n",
       "      <td>26</td>\n",
       "    </tr>\n",
       "    <tr>\n",
       "      <th>23</th>\n",
       "      <td>3.646979</td>\n",
       "      <td>0.189591</td>\n",
       "      <td>0.029395</td>\n",
       "      <td>0.010960</td>\n",
       "      <td>gini</td>\n",
       "      <td>10</td>\n",
       "      <td>2</td>\n",
       "      <td>150</td>\n",
       "      <td>{'criterion': 'gini', 'max_depth': 10, 'min_sa...</td>\n",
       "      <td>0.84375</td>\n",
       "      <td>0.84375</td>\n",
       "      <td>0.88750</td>\n",
       "      <td>0.81250</td>\n",
       "      <td>0.82500</td>\n",
       "      <td>0.84250</td>\n",
       "      <td>0.025434</td>\n",
       "      <td>7</td>\n",
       "    </tr>\n",
       "    <tr>\n",
       "      <th>24</th>\n",
       "      <td>5.291758</td>\n",
       "      <td>0.232895</td>\n",
       "      <td>0.044588</td>\n",
       "      <td>0.029252</td>\n",
       "      <td>gini</td>\n",
       "      <td>50</td>\n",
       "      <td>20</td>\n",
       "      <td>200</td>\n",
       "      <td>{'criterion': 'gini', 'max_depth': 50, 'min_sa...</td>\n",
       "      <td>0.80625</td>\n",
       "      <td>0.83750</td>\n",
       "      <td>0.85625</td>\n",
       "      <td>0.79375</td>\n",
       "      <td>0.82500</td>\n",
       "      <td>0.82375</td>\n",
       "      <td>0.022150</td>\n",
       "      <td>23</td>\n",
       "    </tr>\n",
       "    <tr>\n",
       "      <th>25</th>\n",
       "      <td>3.866954</td>\n",
       "      <td>0.108767</td>\n",
       "      <td>0.029787</td>\n",
       "      <td>0.016651</td>\n",
       "      <td>log_loss</td>\n",
       "      <td>50</td>\n",
       "      <td>10</td>\n",
       "      <td>150</td>\n",
       "      <td>{'criterion': 'log_loss', 'max_depth': 50, 'mi...</td>\n",
       "      <td>0.80625</td>\n",
       "      <td>0.84375</td>\n",
       "      <td>0.85625</td>\n",
       "      <td>0.80625</td>\n",
       "      <td>0.83125</td>\n",
       "      <td>0.82875</td>\n",
       "      <td>0.020000</td>\n",
       "      <td>21</td>\n",
       "    </tr>\n",
       "    <tr>\n",
       "      <th>26</th>\n",
       "      <td>2.405830</td>\n",
       "      <td>0.040468</td>\n",
       "      <td>0.014793</td>\n",
       "      <td>0.000748</td>\n",
       "      <td>entropy</td>\n",
       "      <td>10</td>\n",
       "      <td>10</td>\n",
       "      <td>100</td>\n",
       "      <td>{'criterion': 'entropy', 'max_depth': 10, 'min...</td>\n",
       "      <td>0.84375</td>\n",
       "      <td>0.84375</td>\n",
       "      <td>0.87500</td>\n",
       "      <td>0.81250</td>\n",
       "      <td>0.83125</td>\n",
       "      <td>0.84125</td>\n",
       "      <td>0.020387</td>\n",
       "      <td>9</td>\n",
       "    </tr>\n",
       "    <tr>\n",
       "      <th>27</th>\n",
       "      <td>6.060826</td>\n",
       "      <td>0.319936</td>\n",
       "      <td>0.034797</td>\n",
       "      <td>0.002635</td>\n",
       "      <td>gini</td>\n",
       "      <td>70</td>\n",
       "      <td>10</td>\n",
       "      <td>250</td>\n",
       "      <td>{'criterion': 'gini', 'max_depth': 70, 'min_sa...</td>\n",
       "      <td>0.84375</td>\n",
       "      <td>0.86250</td>\n",
       "      <td>0.85625</td>\n",
       "      <td>0.80000</td>\n",
       "      <td>0.84375</td>\n",
       "      <td>0.84125</td>\n",
       "      <td>0.021866</td>\n",
       "      <td>9</td>\n",
       "    </tr>\n",
       "    <tr>\n",
       "      <th>28</th>\n",
       "      <td>1.275588</td>\n",
       "      <td>0.023577</td>\n",
       "      <td>0.008797</td>\n",
       "      <td>0.000747</td>\n",
       "      <td>gini</td>\n",
       "      <td>70</td>\n",
       "      <td>10</td>\n",
       "      <td>50</td>\n",
       "      <td>{'criterion': 'gini', 'max_depth': 70, 'min_sa...</td>\n",
       "      <td>0.78750</td>\n",
       "      <td>0.83750</td>\n",
       "      <td>0.81250</td>\n",
       "      <td>0.77500</td>\n",
       "      <td>0.81250</td>\n",
       "      <td>0.80500</td>\n",
       "      <td>0.021794</td>\n",
       "      <td>29</td>\n",
       "    </tr>\n",
       "    <tr>\n",
       "      <th>29</th>\n",
       "      <td>1.097844</td>\n",
       "      <td>0.008278</td>\n",
       "      <td>0.008399</td>\n",
       "      <td>0.000491</td>\n",
       "      <td>gini</td>\n",
       "      <td>50</td>\n",
       "      <td>20</td>\n",
       "      <td>50</td>\n",
       "      <td>{'criterion': 'gini', 'max_depth': 50, 'min_sa...</td>\n",
       "      <td>0.83125</td>\n",
       "      <td>0.85625</td>\n",
       "      <td>0.77500</td>\n",
       "      <td>0.80625</td>\n",
       "      <td>0.81875</td>\n",
       "      <td>0.81750</td>\n",
       "      <td>0.026926</td>\n",
       "      <td>26</td>\n",
       "    </tr>\n",
       "  </tbody>\n",
       "</table>\n",
       "</div>"
      ],
      "text/plain": [
       "    mean_fit_time  std_fit_time  mean_score_time  std_score_time  \\\n",
       "0        2.580787      0.145036         0.015399        0.001358   \n",
       "1        6.756424      0.286201         0.039188        0.005033   \n",
       "2        4.273878      0.312250         0.023393        0.001959   \n",
       "3        6.530433      0.256340         0.035178        0.001466   \n",
       "4        5.303402      0.162794         0.030587        0.004119   \n",
       "5        1.268390      0.012591         0.008198        0.000748   \n",
       "6        6.656054      0.266005         0.035189        0.002322   \n",
       "7        6.484534      0.125587         0.040384        0.011017   \n",
       "8        3.836771      0.351215         0.022989        0.003623   \n",
       "9        2.201889      0.017471         0.015196        0.000400   \n",
       "10       3.860152      0.152932         0.023503        0.003212   \n",
       "11       6.569878      0.342554         0.035392        0.002731   \n",
       "12       2.529389      0.228629         0.020195        0.007108   \n",
       "13       3.825766      0.205124         0.021394        0.001019   \n",
       "14       6.386504      0.102839         0.044779        0.011508   \n",
       "15       1.327571      0.101379         0.008601        0.000802   \n",
       "16       5.557007      0.186122         0.035394        0.008794   \n",
       "17       4.257424      0.156885         0.031185        0.012938   \n",
       "18       2.687283      0.107475         0.018789        0.005155   \n",
       "19       6.681246      0.216596         0.048591        0.014029   \n",
       "20       1.257594      0.053946         0.008798        0.000744   \n",
       "21       6.705843      0.457591         0.041385        0.009660   \n",
       "22       1.345765      0.121780         0.008619        0.000509   \n",
       "23       3.646979      0.189591         0.029395        0.010960   \n",
       "24       5.291758      0.232895         0.044588        0.029252   \n",
       "25       3.866954      0.108767         0.029787        0.016651   \n",
       "26       2.405830      0.040468         0.014793        0.000748   \n",
       "27       6.060826      0.319936         0.034797        0.002635   \n",
       "28       1.275588      0.023577         0.008797        0.000747   \n",
       "29       1.097844      0.008278         0.008399        0.000491   \n",
       "\n",
       "   param_criterion param_max_depth param_min_samples_split param_n_estimators  \\\n",
       "0          entropy              50                      20                100   \n",
       "1         log_loss              70                       2                250   \n",
       "2          entropy              70                       2                150   \n",
       "3         log_loss              10                      10                250   \n",
       "4         log_loss              25                      10                200   \n",
       "5         log_loss              70                       2                 50   \n",
       "6          entropy              70                      10                250   \n",
       "7          entropy              70                      10                250   \n",
       "8         log_loss              50                      20                150   \n",
       "9             gini              70                      20                100   \n",
       "10         entropy              70                      10                150   \n",
       "11            gini              50                      10                250   \n",
       "12            gini              70                      10                100   \n",
       "13         entropy              25                      20                150   \n",
       "14        log_loss              25                      20                250   \n",
       "15         entropy              50                      10                 50   \n",
       "16        log_loss              50                       2                200   \n",
       "17         entropy              25                       2                150   \n",
       "18        log_loss              50                       2                100   \n",
       "19         entropy              50                      10                250   \n",
       "20            gini              70                       2                 50   \n",
       "21         entropy              50                      20                250   \n",
       "22        log_loss              70                      20                 50   \n",
       "23            gini              10                       2                150   \n",
       "24            gini              50                      20                200   \n",
       "25        log_loss              50                      10                150   \n",
       "26         entropy              10                      10                100   \n",
       "27            gini              70                      10                250   \n",
       "28            gini              70                      10                 50   \n",
       "29            gini              50                      20                 50   \n",
       "\n",
       "                                               params  split0_test_score  \\\n",
       "0   {'criterion': 'entropy', 'max_depth': 50, 'min...            0.82500   \n",
       "1   {'criterion': 'log_loss', 'max_depth': 70, 'mi...            0.81875   \n",
       "2   {'criterion': 'entropy', 'max_depth': 70, 'min...            0.81875   \n",
       "3   {'criterion': 'log_loss', 'max_depth': 10, 'mi...            0.84375   \n",
       "4   {'criterion': 'log_loss', 'max_depth': 25, 'mi...            0.82500   \n",
       "5   {'criterion': 'log_loss', 'max_depth': 70, 'mi...            0.81250   \n",
       "6   {'criterion': 'entropy', 'max_depth': 70, 'min...            0.85000   \n",
       "7   {'criterion': 'entropy', 'max_depth': 70, 'min...            0.83750   \n",
       "8   {'criterion': 'log_loss', 'max_depth': 50, 'mi...            0.84375   \n",
       "9   {'criterion': 'gini', 'max_depth': 70, 'min_sa...            0.84375   \n",
       "10  {'criterion': 'entropy', 'max_depth': 70, 'min...            0.82500   \n",
       "11  {'criterion': 'gini', 'max_depth': 50, 'min_sa...            0.83125   \n",
       "12  {'criterion': 'gini', 'max_depth': 70, 'min_sa...            0.85000   \n",
       "13  {'criterion': 'entropy', 'max_depth': 25, 'min...            0.85000   \n",
       "14  {'criterion': 'log_loss', 'max_depth': 25, 'mi...            0.81875   \n",
       "15  {'criterion': 'entropy', 'max_depth': 50, 'min...            0.81875   \n",
       "16  {'criterion': 'log_loss', 'max_depth': 50, 'mi...            0.82500   \n",
       "17  {'criterion': 'entropy', 'max_depth': 25, 'min...            0.82500   \n",
       "18  {'criterion': 'log_loss', 'max_depth': 50, 'mi...            0.81875   \n",
       "19  {'criterion': 'entropy', 'max_depth': 50, 'min...            0.83125   \n",
       "20  {'criterion': 'gini', 'max_depth': 70, 'min_sa...            0.79375   \n",
       "21  {'criterion': 'entropy', 'max_depth': 50, 'min...            0.85000   \n",
       "22  {'criterion': 'log_loss', 'max_depth': 70, 'mi...            0.80625   \n",
       "23  {'criterion': 'gini', 'max_depth': 10, 'min_sa...            0.84375   \n",
       "24  {'criterion': 'gini', 'max_depth': 50, 'min_sa...            0.80625   \n",
       "25  {'criterion': 'log_loss', 'max_depth': 50, 'mi...            0.80625   \n",
       "26  {'criterion': 'entropy', 'max_depth': 10, 'min...            0.84375   \n",
       "27  {'criterion': 'gini', 'max_depth': 70, 'min_sa...            0.84375   \n",
       "28  {'criterion': 'gini', 'max_depth': 70, 'min_sa...            0.78750   \n",
       "29  {'criterion': 'gini', 'max_depth': 50, 'min_sa...            0.83125   \n",
       "\n",
       "    split1_test_score  split2_test_score  split3_test_score  \\\n",
       "0             0.85625            0.84375            0.84375   \n",
       "1             0.85625            0.86875            0.81875   \n",
       "2             0.84375            0.87500            0.80000   \n",
       "3             0.85000            0.88125            0.83125   \n",
       "4             0.86250            0.85625            0.83750   \n",
       "5             0.81250            0.81875            0.81875   \n",
       "6             0.86875            0.89375            0.82500   \n",
       "7             0.85625            0.85625            0.81875   \n",
       "8             0.86875            0.86875            0.82500   \n",
       "9             0.83750            0.84375            0.79375   \n",
       "10            0.83750            0.86250            0.80625   \n",
       "11            0.85625            0.87500            0.83125   \n",
       "12            0.85625            0.85625            0.82500   \n",
       "13            0.86250            0.86250            0.80000   \n",
       "14            0.84375            0.86250            0.82500   \n",
       "15            0.82500            0.85000            0.77500   \n",
       "16            0.86250            0.84375            0.78125   \n",
       "17            0.85625            0.84375            0.82500   \n",
       "18            0.81250            0.86250            0.77500   \n",
       "19            0.85625            0.85000            0.79375   \n",
       "20            0.85000            0.81875            0.78750   \n",
       "21            0.88125            0.83125            0.83750   \n",
       "22            0.84375            0.78750            0.83125   \n",
       "23            0.84375            0.88750            0.81250   \n",
       "24            0.83750            0.85625            0.79375   \n",
       "25            0.84375            0.85625            0.80625   \n",
       "26            0.84375            0.87500            0.81250   \n",
       "27            0.86250            0.85625            0.80000   \n",
       "28            0.83750            0.81250            0.77500   \n",
       "29            0.85625            0.77500            0.80625   \n",
       "\n",
       "    split4_test_score  mean_test_score  std_test_score  rank_test_score  \n",
       "0             0.81250          0.83625        0.015512               15  \n",
       "1             0.80000          0.83250        0.025739               17  \n",
       "2             0.85000          0.83750        0.025921               14  \n",
       "3             0.82500          0.84625        0.019605                5  \n",
       "4             0.82500          0.84125        0.015612                9  \n",
       "5             0.83750          0.82000        0.009186               24  \n",
       "6             0.84375          0.85625        0.023385                1  \n",
       "7             0.83125          0.84000        0.014577               12  \n",
       "8             0.81250          0.84375        0.022707                6  \n",
       "9             0.81250          0.82625        0.019922               22  \n",
       "10            0.82500          0.83125        0.018540               18  \n",
       "11            0.84375          0.84750        0.016583                3  \n",
       "12            0.82500          0.84250        0.014470                7  \n",
       "13            0.86250          0.84750        0.024238                3  \n",
       "14            0.84375          0.83875        0.015512               13  \n",
       "15            0.83125          0.82000        0.024812               25  \n",
       "16            0.84375          0.83125        0.027670               18  \n",
       "17            0.83125          0.83625        0.012119               16  \n",
       "18            0.80625          0.81500        0.028118               28  \n",
       "19            0.81875          0.83000        0.022500               20  \n",
       "20            0.77500          0.80500        0.026634               29  \n",
       "21            0.84375          0.84875        0.017410                2  \n",
       "22            0.81875          0.81750        0.019526               26  \n",
       "23            0.82500          0.84250        0.025434                7  \n",
       "24            0.82500          0.82375        0.022150               23  \n",
       "25            0.83125          0.82875        0.020000               21  \n",
       "26            0.83125          0.84125        0.020387                9  \n",
       "27            0.84375          0.84125        0.021866                9  \n",
       "28            0.81250          0.80500        0.021794               29  \n",
       "29            0.81875          0.81750        0.026926               26  "
      ]
     },
     "execution_count": 180,
     "metadata": {},
     "output_type": "execute_result"
    }
   ],
   "source": [
    "cv_results"
   ]
  },
  {
   "cell_type": "code",
   "execution_count": 178,
   "id": "b86d8cef-e4ab-4ca7-aee4-a2cbb4c8fb0d",
   "metadata": {},
   "outputs": [
    {
     "name": "stdout",
     "output_type": "stream",
     "text": [
      "val. score:  0.85625\n",
      "test score:  0.835\n",
      "best params:  OrderedDict([('criterion', 'entropy'), ('max_depth', 70), ('min_samples_split', 10), ('n_estimators', 250)])\n"
     ]
    }
   ],
   "source": [
    "print(\"val. score: \", bayes_search.best_score_)\n",
    "print(\"test score: \", bayes_search.score(X_test, y_test))\n",
    "print(\"best params: \", bayes_search.best_params_)"
   ]
  },
  {
   "cell_type": "code",
   "execution_count": 181,
   "id": "165ee16d-ecd2-4bdc-b5f5-e425e4b4a9d7",
   "metadata": {},
   "outputs": [],
   "source": [
    "y_pred_test = bayes_search.predict(X_test)"
   ]
  },
  {
   "cell_type": "code",
   "execution_count": 134,
   "id": "3fd57cbb-bd90-45eb-a104-aa7a402d590f",
   "metadata": {},
   "outputs": [
    {
     "data": {
      "text/html": [
       "<style>#sk-container-id-14 {color: black;}#sk-container-id-14 pre{padding: 0;}#sk-container-id-14 div.sk-toggleable {background-color: white;}#sk-container-id-14 label.sk-toggleable__label {cursor: pointer;display: block;width: 100%;margin-bottom: 0;padding: 0.3em;box-sizing: border-box;text-align: center;}#sk-container-id-14 label.sk-toggleable__label-arrow:before {content: \"▸\";float: left;margin-right: 0.25em;color: #696969;}#sk-container-id-14 label.sk-toggleable__label-arrow:hover:before {color: black;}#sk-container-id-14 div.sk-estimator:hover label.sk-toggleable__label-arrow:before {color: black;}#sk-container-id-14 div.sk-toggleable__content {max-height: 0;max-width: 0;overflow: hidden;text-align: left;background-color: #f0f8ff;}#sk-container-id-14 div.sk-toggleable__content pre {margin: 0.2em;color: black;border-radius: 0.25em;background-color: #f0f8ff;}#sk-container-id-14 input.sk-toggleable__control:checked~div.sk-toggleable__content {max-height: 200px;max-width: 100%;overflow: auto;}#sk-container-id-14 input.sk-toggleable__control:checked~label.sk-toggleable__label-arrow:before {content: \"▾\";}#sk-container-id-14 div.sk-estimator input.sk-toggleable__control:checked~label.sk-toggleable__label {background-color: #d4ebff;}#sk-container-id-14 div.sk-label input.sk-toggleable__control:checked~label.sk-toggleable__label {background-color: #d4ebff;}#sk-container-id-14 input.sk-hidden--visually {border: 0;clip: rect(1px 1px 1px 1px);clip: rect(1px, 1px, 1px, 1px);height: 1px;margin: -1px;overflow: hidden;padding: 0;position: absolute;width: 1px;}#sk-container-id-14 div.sk-estimator {font-family: monospace;background-color: #f0f8ff;border: 1px dotted black;border-radius: 0.25em;box-sizing: border-box;margin-bottom: 0.5em;}#sk-container-id-14 div.sk-estimator:hover {background-color: #d4ebff;}#sk-container-id-14 div.sk-parallel-item::after {content: \"\";width: 100%;border-bottom: 1px solid gray;flex-grow: 1;}#sk-container-id-14 div.sk-label:hover label.sk-toggleable__label {background-color: #d4ebff;}#sk-container-id-14 div.sk-serial::before {content: \"\";position: absolute;border-left: 1px solid gray;box-sizing: border-box;top: 0;bottom: 0;left: 50%;z-index: 0;}#sk-container-id-14 div.sk-serial {display: flex;flex-direction: column;align-items: center;background-color: white;padding-right: 0.2em;padding-left: 0.2em;position: relative;}#sk-container-id-14 div.sk-item {position: relative;z-index: 1;}#sk-container-id-14 div.sk-parallel {display: flex;align-items: stretch;justify-content: center;background-color: white;position: relative;}#sk-container-id-14 div.sk-item::before, #sk-container-id-14 div.sk-parallel-item::before {content: \"\";position: absolute;border-left: 1px solid gray;box-sizing: border-box;top: 0;bottom: 0;left: 50%;z-index: -1;}#sk-container-id-14 div.sk-parallel-item {display: flex;flex-direction: column;z-index: 1;position: relative;background-color: white;}#sk-container-id-14 div.sk-parallel-item:first-child::after {align-self: flex-end;width: 50%;}#sk-container-id-14 div.sk-parallel-item:last-child::after {align-self: flex-start;width: 50%;}#sk-container-id-14 div.sk-parallel-item:only-child::after {width: 0;}#sk-container-id-14 div.sk-dashed-wrapped {border: 1px dashed gray;margin: 0 0.4em 0.5em 0.4em;box-sizing: border-box;padding-bottom: 0.4em;background-color: white;}#sk-container-id-14 div.sk-label label {font-family: monospace;font-weight: bold;display: inline-block;line-height: 1.2em;}#sk-container-id-14 div.sk-label-container {text-align: center;}#sk-container-id-14 div.sk-container {/* jupyter's `normalize.less` sets `[hidden] { display: none; }` but bootstrap.min.css set `[hidden] { display: none !important; }` so we also need the `!important` here to be able to override the default hidden behavior on the sphinx rendered scikit-learn.org. See: https://github.com/scikit-learn/scikit-learn/issues/21755 */display: inline-block !important;position: relative;}#sk-container-id-14 div.sk-text-repr-fallback {display: none;}</style><div id=\"sk-container-id-14\" class=\"sk-top-container\"><div class=\"sk-text-repr-fallback\"><pre>RandomForestClassifier(n_estimators=150)</pre><b>In a Jupyter environment, please rerun this cell to show the HTML representation or trust the notebook. <br />On GitHub, the HTML representation is unable to render, please try loading this page with nbviewer.org.</b></div><div class=\"sk-container\" hidden><div class=\"sk-item\"><div class=\"sk-estimator sk-toggleable\"><input class=\"sk-toggleable__control sk-hidden--visually\" id=\"sk-estimator-id-14\" type=\"checkbox\" checked><label for=\"sk-estimator-id-14\" class=\"sk-toggleable__label sk-toggleable__label-arrow\">RandomForestClassifier</label><div class=\"sk-toggleable__content\"><pre>RandomForestClassifier(n_estimators=150)</pre></div></div></div></div></div>"
      ],
      "text/plain": [
       "RandomForestClassifier(n_estimators=150)"
      ]
     },
     "execution_count": 134,
     "metadata": {},
     "output_type": "execute_result"
    }
   ],
   "source": [
    "random_forest_classifier.fit(X_train, y_train)"
   ]
  },
  {
   "cell_type": "code",
   "execution_count": 184,
   "id": "834fc06b-dbbc-477a-8f79-806bdecb904d",
   "metadata": {},
   "outputs": [
    {
     "data": {
      "image/png": "[encoded data removed]",
      "text/plain": [
       "<Figure size 640x480 with 2 Axes>"
      ]
     },
     "metadata": {},
     "output_type": "display_data"
    },
    {
     "name": "stdout",
     "output_type": "stream",
     "text": [
      "\n",
      "Accuracy: 1.00\n",
      "\n",
      "Classification Report:\n",
      "               precision    recall  f1-score   support\n",
      "\n",
      "           0       1.00      1.00      1.00       407\n",
      "           1       1.00      1.00      1.00       393\n",
      "\n",
      "    accuracy                           1.00       800\n",
      "   macro avg       1.00      1.00      1.00       800\n",
      "weighted avg       1.00      1.00      1.00       800\n",
      "\n",
      "\n",
      "Error Rates and Additional Analysis:\n",
      "False Positive Rate (FPR): 0.00\n",
      "False Negative Rate (FNR): 0.00\n",
      "True Positive Rate (TPR): 1.00\n",
      "True Negative Rate (TNR): 1.00\n",
      "\n",
      "Summary of Errors:\n",
      "Total Mistakes (FP + FN): 0\n",
      "Error Rate: 0.00\n"
     ]
    }
   ],
   "source": [
    "model_evaluation(y_train, bayes_search.predict(X_train))"
   ]
  },
  {
   "cell_type": "code",
   "execution_count": 183,
   "id": "4f54559f-73bf-4b4d-a3df-5c4818a0b638",
   "metadata": {},
   "outputs": [
    {
     "data": {
      "image/png": "[encoded data removed]",
      "text/plain": [
       "<Figure size 640x480 with 2 Axes>"
      ]
     },
     "metadata": {},
     "output_type": "display_data"
    },
    {
     "name": "stdout",
     "output_type": "stream",
     "text": [
      "\n",
      "Accuracy: 0.83\n",
      "\n",
      "Classification Report:\n",
      "               precision    recall  f1-score   support\n",
      "\n",
      "           0       0.81      0.85      0.83        95\n",
      "           1       0.86      0.82      0.84       105\n",
      "\n",
      "    accuracy                           0.83       200\n",
      "   macro avg       0.83      0.84      0.83       200\n",
      "weighted avg       0.84      0.83      0.84       200\n",
      "\n",
      "\n",
      "Error Rates and Additional Analysis:\n",
      "False Positive Rate (FPR): 0.15\n",
      "False Negative Rate (FNR): 0.18\n",
      "True Positive Rate (TPR): 0.82\n",
      "True Negative Rate (TNR): 0.85\n",
      "\n",
      "Summary of Errors:\n",
      "Total Mistakes (FP + FN): 33\n",
      "Error Rate: 0.17\n"
     ]
    }
   ],
   "source": [
    "model_evaluation(y_test, y_pred_test)"
   ]
  },
  {
   "cell_type": "code",
   "execution_count": 135,
   "id": "846fa162-96f7-4fb5-b41b-673f630feace",
   "metadata": {},
   "outputs": [
    {
     "data": {
      "image/png": "[encoded data removed]",
      "text/plain": [
       "<Figure size 640x480 with 2 Axes>"
      ]
     },
     "metadata": {},
     "output_type": "display_data"
    },
    {
     "name": "stdout",
     "output_type": "stream",
     "text": [
      "Accuracy: 1.00\n",
      "\n",
      "Classification Report:\n",
      "               precision    recall  f1-score   support\n",
      "\n",
      "           0       1.00      1.00      1.00       407\n",
      "           1       1.00      1.00      1.00       393\n",
      "\n",
      "    accuracy                           1.00       800\n",
      "   macro avg       1.00      1.00      1.00       800\n",
      "weighted avg       1.00      1.00      1.00       800\n",
      "\n",
      "\n",
      "Error Rates and Additional Analysis:\n",
      "False Positive Rate (FPR): 0.00\n",
      "False Negative Rate (FNR): 0.00\n",
      "True Positive Rate (TPR): 1.00\n",
      "True Negative Rate (TNR): 1.00\n",
      "\n",
      "Summary of Errors:\n",
      "Total Mistakes (FP + FN): 0\n",
      "Error Rate: 0.00\n"
     ]
    }
   ],
   "source": [
    "y_pred_train = random_forest_classifier.predict(X_train)\n",
    "model_evaluation(y_train, y_pred_train)"
   ]
  },
  {
   "cell_type": "code",
   "execution_count": 136,
   "id": "bf09362b-d303-4cbc-b69e-1792967885fa",
   "metadata": {},
   "outputs": [
    {
     "data": {
      "image/png": "[encoded data removed]",
      "text/plain": [
       "<Figure size 640x480 with 2 Axes>"
      ]
     },
     "metadata": {},
     "output_type": "display_data"
    },
    {
     "name": "stdout",
     "output_type": "stream",
     "text": [
      "Accuracy: 0.85\n",
      "\n",
      "Classification Report:\n",
      "               precision    recall  f1-score   support\n",
      "\n",
      "           0       0.83      0.87      0.85        95\n",
      "           1       0.88      0.84      0.86       105\n",
      "\n",
      "    accuracy                           0.85       200\n",
      "   macro avg       0.85      0.86      0.85       200\n",
      "weighted avg       0.86      0.85      0.86       200\n",
      "\n",
      "\n",
      "Error Rates and Additional Analysis:\n",
      "False Positive Rate (FPR): 0.13\n",
      "False Negative Rate (FNR): 0.16\n",
      "True Positive Rate (TPR): 0.84\n",
      "True Negative Rate (TNR): 0.87\n",
      "\n",
      "Summary of Errors:\n",
      "Total Mistakes (FP + FN): 29\n",
      "Error Rate: 0.14\n"
     ]
    }
   ],
   "source": [
    "y_pred_test = random_forest_classifier.predict(X_test)\n",
    "model_evaluation(y_test, y_pred_test)"
   ]
  },
  {
   "cell_type": "markdown",
   "id": "36476701-208b-4d26-a932-af2ab2992473",
   "metadata": {
    "jp-MarkdownHeadingCollapsed": true
   },
   "source": [
    "# XGBoost "
   ]
  },
  {
   "cell_type": "code",
   "execution_count": 128,
   "id": "286122c7-4524-4a4e-ad99-991bed2ca7cd",
   "metadata": {},
   "outputs": [],
   "source": [
    "from xgboost import XGBClassifier\n",
    "from skopt import BayesSearchCV\n",
    "from skopt.space import Real, Integer"
   ]
  },
  {
   "cell_type": "code",
   "execution_count": 129,
   "id": "37495f3a-1f4a-401f-b870-c704086c1d6f",
   "metadata": {},
   "outputs": [],
   "source": [
    "xgboost_classifier = XGBClassifier()"
   ]
  },
  {
   "cell_type": "code",
   "execution_count": 130,
   "id": "a178fe75-fdad-4417-8d7f-dfce7b7fc7cd",
   "metadata": {},
   "outputs": [
    {
     "data": {
      "text/html": [
       "<style>#sk-container-id-6 {color: black;}#sk-container-id-6 pre{padding: 0;}#sk-container-id-6 div.sk-toggleable {background-color: white;}#sk-container-id-6 label.sk-toggleable__label {cursor: pointer;display: block;width: 100%;margin-bottom: 0;padding: 0.3em;box-sizing: border-box;text-align: center;}#sk-container-id-6 label.sk-toggleable__label-arrow:before {content: \"▸\";float: left;margin-right: 0.25em;color: #696969;}#sk-container-id-6 label.sk-toggleable__label-arrow:hover:before {color: black;}#sk-container-id-6 div.sk-estimator:hover label.sk-toggleable__label-arrow:before {color: black;}#sk-container-id-6 div.sk-toggleable__content {max-height: 0;max-width: 0;overflow: hidden;text-align: left;background-color: #f0f8ff;}#sk-container-id-6 div.sk-toggleable__content pre {margin: 0.2em;color: black;border-radius: 0.25em;background-color: #f0f8ff;}#sk-container-id-6 input.sk-toggleable__control:checked~div.sk-toggleable__content {max-height: 200px;max-width: 100%;overflow: auto;}#sk-container-id-6 input.sk-toggleable__control:checked~label.sk-toggleable__label-arrow:before {content: \"▾\";}#sk-container-id-6 div.sk-estimator input.sk-toggleable__control:checked~label.sk-toggleable__label {background-color: #d4ebff;}#sk-container-id-6 div.sk-label input.sk-toggleable__control:checked~label.sk-toggleable__label {background-color: #d4ebff;}#sk-container-id-6 input.sk-hidden--visually {border: 0;clip: rect(1px 1px 1px 1px);clip: rect(1px, 1px, 1px, 1px);height: 1px;margin: -1px;overflow: hidden;padding: 0;position: absolute;width: 1px;}#sk-container-id-6 div.sk-estimator {font-family: monospace;background-color: #f0f8ff;border: 1px dotted black;border-radius: 0.25em;box-sizing: border-box;margin-bottom: 0.5em;}#sk-container-id-6 div.sk-estimator:hover {background-color: #d4ebff;}#sk-container-id-6 div.sk-parallel-item::after {content: \"\";width: 100%;border-bottom: 1px solid gray;flex-grow: 1;}#sk-container-id-6 div.sk-label:hover label.sk-toggleable__label {background-color: #d4ebff;}#sk-container-id-6 div.sk-serial::before {content: \"\";position: absolute;border-left: 1px solid gray;box-sizing: border-box;top: 0;bottom: 0;left: 50%;z-index: 0;}#sk-container-id-6 div.sk-serial {display: flex;flex-direction: column;align-items: center;background-color: white;padding-right: 0.2em;padding-left: 0.2em;position: relative;}#sk-container-id-6 div.sk-item {position: relative;z-index: 1;}#sk-container-id-6 div.sk-parallel {display: flex;align-items: stretch;justify-content: center;background-color: white;position: relative;}#sk-container-id-6 div.sk-item::before, #sk-container-id-6 div.sk-parallel-item::before {content: \"\";position: absolute;border-left: 1px solid gray;box-sizing: border-box;top: 0;bottom: 0;left: 50%;z-index: -1;}#sk-container-id-6 div.sk-parallel-item {display: flex;flex-direction: column;z-index: 1;position: relative;background-color: white;}#sk-container-id-6 div.sk-parallel-item:first-child::after {align-self: flex-end;width: 50%;}#sk-container-id-6 div.sk-parallel-item:last-child::after {align-self: flex-start;width: 50%;}#sk-container-id-6 div.sk-parallel-item:only-child::after {width: 0;}#sk-container-id-6 div.sk-dashed-wrapped {border: 1px dashed gray;margin: 0 0.4em 0.5em 0.4em;box-sizing: border-box;padding-bottom: 0.4em;background-color: white;}#sk-container-id-6 div.sk-label label {font-family: monospace;font-weight: bold;display: inline-block;line-height: 1.2em;}#sk-container-id-6 div.sk-label-container {text-align: center;}#sk-container-id-6 div.sk-container {/* jupyter's `normalize.less` sets `[hidden] { display: none; }` but bootstrap.min.css set `[hidden] { display: none !important; }` so we also need the `!important` here to be able to override the default hidden behavior on the sphinx rendered scikit-learn.org. See: https://github.com/scikit-learn/scikit-learn/issues/21755 */display: inline-block !important;position: relative;}#sk-container-id-6 div.sk-text-repr-fallback {display: none;}</style><div id=\"sk-container-id-6\" class=\"sk-top-container\"><div class=\"sk-text-repr-fallback\"><pre>XGBClassifier(base_score=None, booster=None, callbacks=None,\n",
       "              colsample_bylevel=None, colsample_bynode=None,\n",
       "              colsample_bytree=None, device=None, early_stopping_rounds=None,\n",
       "              enable_categorical=False, eval_metric=None, feature_types=None,\n",
       "              gamma=None, grow_policy=None, importance_type=None,\n",
       "              interaction_constraints=None, learning_rate=None, max_bin=None,\n",
       "              max_cat_threshold=None, max_cat_to_onehot=None,\n",
       "              max_delta_step=None, max_depth=None, max_leaves=None,\n",
       "              min_child_weight=None, missing=nan, monotone_constraints=None,\n",
       "              multi_strategy=None, n_estimators=None, n_jobs=None,\n",
       "              num_parallel_tree=None, random_state=None, ...)</pre><b>In a Jupyter environment, please rerun this cell to show the HTML representation or trust the notebook. <br />On GitHub, the HTML representation is unable to render, please try loading this page with nbviewer.org.</b></div><div class=\"sk-container\" hidden><div class=\"sk-item\"><div class=\"sk-estimator sk-toggleable\"><input class=\"sk-toggleable__control sk-hidden--visually\" id=\"sk-estimator-id-6\" type=\"checkbox\" checked><label for=\"sk-estimator-id-6\" class=\"sk-toggleable__label sk-toggleable__label-arrow\">XGBClassifier</label><div class=\"sk-toggleable__content\"><pre>XGBClassifier(base_score=None, booster=None, callbacks=None,\n",
       "              colsample_bylevel=None, colsample_bynode=None,\n",
       "              colsample_bytree=None, device=None, early_stopping_rounds=None,\n",
       "              enable_categorical=False, eval_metric=None, feature_types=None,\n",
       "              gamma=None, grow_policy=None, importance_type=None,\n",
       "              interaction_constraints=None, learning_rate=None, max_bin=None,\n",
       "              max_cat_threshold=None, max_cat_to_onehot=None,\n",
       "              max_delta_step=None, max_depth=None, max_leaves=None,\n",
       "              min_child_weight=None, missing=nan, monotone_constraints=None,\n",
       "              multi_strategy=None, n_estimators=None, n_jobs=None,\n",
       "              num_parallel_tree=None, random_state=None, ...)</pre></div></div></div></div></div>"
      ],
      "text/plain": [
       "XGBClassifier(base_score=None, booster=None, callbacks=None,\n",
       "              colsample_bylevel=None, colsample_bynode=None,\n",
       "              colsample_bytree=None, device=None, early_stopping_rounds=None,\n",
       "              enable_categorical=False, eval_metric=None, feature_types=None,\n",
       "              gamma=None, grow_policy=None, importance_type=None,\n",
       "              interaction_constraints=None, learning_rate=None, max_bin=None,\n",
       "              max_cat_threshold=None, max_cat_to_onehot=None,\n",
       "              max_delta_step=None, max_depth=None, max_leaves=None,\n",
       "              min_child_weight=None, missing=nan, monotone_constraints=None,\n",
       "              multi_strategy=None, n_estimators=None, n_jobs=None,\n",
       "              num_parallel_tree=None, random_state=None, ...)"
      ]
     },
     "execution_count": 130,
     "metadata": {},
     "output_type": "execute_result"
    }
   ],
   "source": [
    "xgboost_classifier"
   ]
  },
  {
   "cell_type": "code",
   "execution_count": 131,
   "id": "caac2c06-0e55-4d89-aa12-a6b4bd7a8430",
   "metadata": {},
   "outputs": [
    {
     "data": {
      "text/html": [
       "<style>#sk-container-id-7 {color: black;}#sk-container-id-7 pre{padding: 0;}#sk-container-id-7 div.sk-toggleable {background-color: white;}#sk-container-id-7 label.sk-toggleable__label {cursor: pointer;display: block;width: 100%;margin-bottom: 0;padding: 0.3em;box-sizing: border-box;text-align: center;}#sk-container-id-7 label.sk-toggleable__label-arrow:before {content: \"▸\";float: left;margin-right: 0.25em;color: #696969;}#sk-container-id-7 label.sk-toggleable__label-arrow:hover:before {color: black;}#sk-container-id-7 div.sk-estimator:hover label.sk-toggleable__label-arrow:before {color: black;}#sk-container-id-7 div.sk-toggleable__content {max-height: 0;max-width: 0;overflow: hidden;text-align: left;background-color: #f0f8ff;}#sk-container-id-7 div.sk-toggleable__content pre {margin: 0.2em;color: black;border-radius: 0.25em;background-color: #f0f8ff;}#sk-container-id-7 input.sk-toggleable__control:checked~div.sk-toggleable__content {max-height: 200px;max-width: 100%;overflow: auto;}#sk-container-id-7 input.sk-toggleable__control:checked~label.sk-toggleable__label-arrow:before {content: \"▾\";}#sk-container-id-7 div.sk-estimator input.sk-toggleable__control:checked~label.sk-toggleable__label {background-color: #d4ebff;}#sk-container-id-7 div.sk-label input.sk-toggleable__control:checked~label.sk-toggleable__label {background-color: #d4ebff;}#sk-container-id-7 input.sk-hidden--visually {border: 0;clip: rect(1px 1px 1px 1px);clip: rect(1px, 1px, 1px, 1px);height: 1px;margin: -1px;overflow: hidden;padding: 0;position: absolute;width: 1px;}#sk-container-id-7 div.sk-estimator {font-family: monospace;background-color: #f0f8ff;border: 1px dotted black;border-radius: 0.25em;box-sizing: border-box;margin-bottom: 0.5em;}#sk-container-id-7 div.sk-estimator:hover {background-color: #d4ebff;}#sk-container-id-7 div.sk-parallel-item::after {content: \"\";width: 100%;border-bottom: 1px solid gray;flex-grow: 1;}#sk-container-id-7 div.sk-label:hover label.sk-toggleable__label {background-color: #d4ebff;}#sk-container-id-7 div.sk-serial::before {content: \"\";position: absolute;border-left: 1px solid gray;box-sizing: border-box;top: 0;bottom: 0;left: 50%;z-index: 0;}#sk-container-id-7 div.sk-serial {display: flex;flex-direction: column;align-items: center;background-color: white;padding-right: 0.2em;padding-left: 0.2em;position: relative;}#sk-container-id-7 div.sk-item {position: relative;z-index: 1;}#sk-container-id-7 div.sk-parallel {display: flex;align-items: stretch;justify-content: center;background-color: white;position: relative;}#sk-container-id-7 div.sk-item::before, #sk-container-id-7 div.sk-parallel-item::before {content: \"\";position: absolute;border-left: 1px solid gray;box-sizing: border-box;top: 0;bottom: 0;left: 50%;z-index: -1;}#sk-container-id-7 div.sk-parallel-item {display: flex;flex-direction: column;z-index: 1;position: relative;background-color: white;}#sk-container-id-7 div.sk-parallel-item:first-child::after {align-self: flex-end;width: 50%;}#sk-container-id-7 div.sk-parallel-item:last-child::after {align-self: flex-start;width: 50%;}#sk-container-id-7 div.sk-parallel-item:only-child::after {width: 0;}#sk-container-id-7 div.sk-dashed-wrapped {border: 1px dashed gray;margin: 0 0.4em 0.5em 0.4em;box-sizing: border-box;padding-bottom: 0.4em;background-color: white;}#sk-container-id-7 div.sk-label label {font-family: monospace;font-weight: bold;display: inline-block;line-height: 1.2em;}#sk-container-id-7 div.sk-label-container {text-align: center;}#sk-container-id-7 div.sk-container {/* jupyter's `normalize.less` sets `[hidden] { display: none; }` but bootstrap.min.css set `[hidden] { display: none !important; }` so we also need the `!important` here to be able to override the default hidden behavior on the sphinx rendered scikit-learn.org. See: https://github.com/scikit-learn/scikit-learn/issues/21755 */display: inline-block !important;position: relative;}#sk-container-id-7 div.sk-text-repr-fallback {display: none;}</style><div id=\"sk-container-id-7\" class=\"sk-top-container\"><div class=\"sk-text-repr-fallback\"><pre>XGBClassifier(base_score=None, booster=None, callbacks=None,\n",
       "              colsample_bylevel=None, colsample_bynode=None,\n",
       "              colsample_bytree=None, device=None, early_stopping_rounds=None,\n",
       "              enable_categorical=False, eval_metric=None, feature_types=None,\n",
       "              gamma=None, grow_policy=None, importance_type=None,\n",
       "              interaction_constraints=None, learning_rate=None, max_bin=None,\n",
       "              max_cat_threshold=None, max_cat_to_onehot=None,\n",
       "              max_delta_step=None, max_depth=None, max_leaves=None,\n",
       "              min_child_weight=None, missing=nan, monotone_constraints=None,\n",
       "              multi_strategy=None, n_estimators=None, n_jobs=None,\n",
       "              num_parallel_tree=None, random_state=None, ...)</pre><b>In a Jupyter environment, please rerun this cell to show the HTML representation or trust the notebook. <br />On GitHub, the HTML representation is unable to render, please try loading this page with nbviewer.org.</b></div><div class=\"sk-container\" hidden><div class=\"sk-item\"><div class=\"sk-estimator sk-toggleable\"><input class=\"sk-toggleable__control sk-hidden--visually\" id=\"sk-estimator-id-7\" type=\"checkbox\" checked><label for=\"sk-estimator-id-7\" class=\"sk-toggleable__label sk-toggleable__label-arrow\">XGBClassifier</label><div class=\"sk-toggleable__content\"><pre>XGBClassifier(base_score=None, booster=None, callbacks=None,\n",
       "              colsample_bylevel=None, colsample_bynode=None,\n",
       "              colsample_bytree=None, device=None, early_stopping_rounds=None,\n",
       "              enable_categorical=False, eval_metric=None, feature_types=None,\n",
       "              gamma=None, grow_policy=None, importance_type=None,\n",
       "              interaction_constraints=None, learning_rate=None, max_bin=None,\n",
       "              max_cat_threshold=None, max_cat_to_onehot=None,\n",
       "              max_delta_step=None, max_depth=None, max_leaves=None,\n",
       "              min_child_weight=None, missing=nan, monotone_constraints=None,\n",
       "              multi_strategy=None, n_estimators=None, n_jobs=None,\n",
       "              num_parallel_tree=None, random_state=None, ...)</pre></div></div></div></div></div>"
      ],
      "text/plain": [
       "XGBClassifier(base_score=None, booster=None, callbacks=None,\n",
       "              colsample_bylevel=None, colsample_bynode=None,\n",
       "              colsample_bytree=None, device=None, early_stopping_rounds=None,\n",
       "              enable_categorical=False, eval_metric=None, feature_types=None,\n",
       "              gamma=None, grow_policy=None, importance_type=None,\n",
       "              interaction_constraints=None, learning_rate=None, max_bin=None,\n",
       "              max_cat_threshold=None, max_cat_to_onehot=None,\n",
       "              max_delta_step=None, max_depth=None, max_leaves=None,\n",
       "              min_child_weight=None, missing=nan, monotone_constraints=None,\n",
       "              multi_strategy=None, n_estimators=None, n_jobs=None,\n",
       "              num_parallel_tree=None, random_state=None, ...)"
      ]
     },
     "execution_count": 131,
     "metadata": {},
     "output_type": "execute_result"
    }
   ],
   "source": [
    "xgboost_classifier.fit(X_train, y_train)"
   ]
  },
  {
   "cell_type": "code",
   "execution_count": 132,
   "id": "da549a49-da69-4d00-ad06-c2904d6b960d",
   "metadata": {},
   "outputs": [
    {
     "data": {
      "image/png": "[encoded data removed]",
      "text/plain": [
       "<Figure size 640x480 with 2 Axes>"
      ]
     },
     "metadata": {},
     "output_type": "display_data"
    },
    {
     "name": "stdout",
     "output_type": "stream",
     "text": [
      "\n",
      "Accuracy: 0.91\n",
      "\n",
      "Classification Report:\n",
      "               precision    recall  f1-score   support\n",
      "\n",
      "           0       0.90      0.91      0.91      1013\n",
      "           1       0.91      0.90      0.90       987\n",
      "\n",
      "    accuracy                           0.91      2000\n",
      "   macro avg       0.91      0.91      0.91      2000\n",
      "weighted avg       0.91      0.91      0.91      2000\n",
      "\n",
      "\n",
      "Error Rates and Additional Analysis:\n",
      "False Positive Rate (FPR): 0.09\n",
      "False Negative Rate (FNR): 0.10\n",
      "True Positive Rate (TPR): 0.90\n",
      "True Negative Rate (TNR): 0.91\n",
      "\n",
      "Summary of Errors:\n",
      "Total Mistakes (FP + FN): 189\n",
      "Error Rate: 0.09\n"
     ]
    }
   ],
   "source": [
    "y_pred_test = xgboost_classifier.predict(X_test)\n",
    "model_evaluation(y_test, y_pred_test)"
   ]
  },
  {
   "cell_type": "code",
   "execution_count": 133,
   "id": "49165e6c-ded4-4327-abd5-1e338fe6c59a",
   "metadata": {},
   "outputs": [
    {
     "data": {
      "image/png": "[encoded data removed]",
      "text/plain": [
       "<Figure size 640x480 with 2 Axes>"
      ]
     },
     "metadata": {},
     "output_type": "display_data"
    },
    {
     "name": "stdout",
     "output_type": "stream",
     "text": [
      "\n",
      "Accuracy: 1.00\n",
      "\n",
      "Classification Report:\n",
      "               precision    recall  f1-score   support\n",
      "\n",
      "           0       1.00      1.00      1.00      3987\n",
      "           1       1.00      1.00      1.00      4013\n",
      "\n",
      "    accuracy                           1.00      8000\n",
      "   macro avg       1.00      1.00      1.00      8000\n",
      "weighted avg       1.00      1.00      1.00      8000\n",
      "\n",
      "\n",
      "Error Rates and Additional Analysis:\n",
      "False Positive Rate (FPR): 0.00\n",
      "False Negative Rate (FNR): 0.00\n",
      "True Positive Rate (TPR): 1.00\n",
      "True Negative Rate (TNR): 1.00\n",
      "\n",
      "Summary of Errors:\n",
      "Total Mistakes (FP + FN): 0\n",
      "Error Rate: 0.00\n"
     ]
    }
   ],
   "source": [
    "y_pred_train = xgboost_classifier.predict(X_train)\n",
    "model_evaluation(y_train, y_pred_train)"
   ]
  },
  {
   "cell_type": "code",
   "execution_count": 134,
   "id": "02269dd3-618d-4c97-ab97-4861d0cf9cbe",
   "metadata": {},
   "outputs": [
    {
     "data": {
      "text/html": [
       "<style>#sk-container-id-8 {color: black;}#sk-container-id-8 pre{padding: 0;}#sk-container-id-8 div.sk-toggleable {background-color: white;}#sk-container-id-8 label.sk-toggleable__label {cursor: pointer;display: block;width: 100%;margin-bottom: 0;padding: 0.3em;box-sizing: border-box;text-align: center;}#sk-container-id-8 label.sk-toggleable__label-arrow:before {content: \"▸\";float: left;margin-right: 0.25em;color: #696969;}#sk-container-id-8 label.sk-toggleable__label-arrow:hover:before {color: black;}#sk-container-id-8 div.sk-estimator:hover label.sk-toggleable__label-arrow:before {color: black;}#sk-container-id-8 div.sk-toggleable__content {max-height: 0;max-width: 0;overflow: hidden;text-align: left;background-color: #f0f8ff;}#sk-container-id-8 div.sk-toggleable__content pre {margin: 0.2em;color: black;border-radius: 0.25em;background-color: #f0f8ff;}#sk-container-id-8 input.sk-toggleable__control:checked~div.sk-toggleable__content {max-height: 200px;max-width: 100%;overflow: auto;}#sk-container-id-8 input.sk-toggleable__control:checked~label.sk-toggleable__label-arrow:before {content: \"▾\";}#sk-container-id-8 div.sk-estimator input.sk-toggleable__control:checked~label.sk-toggleable__label {background-color: #d4ebff;}#sk-container-id-8 div.sk-label input.sk-toggleable__control:checked~label.sk-toggleable__label {background-color: #d4ebff;}#sk-container-id-8 input.sk-hidden--visually {border: 0;clip: rect(1px 1px 1px 1px);clip: rect(1px, 1px, 1px, 1px);height: 1px;margin: -1px;overflow: hidden;padding: 0;position: absolute;width: 1px;}#sk-container-id-8 div.sk-estimator {font-family: monospace;background-color: #f0f8ff;border: 1px dotted black;border-radius: 0.25em;box-sizing: border-box;margin-bottom: 0.5em;}#sk-container-id-8 div.sk-estimator:hover {background-color: #d4ebff;}#sk-container-id-8 div.sk-parallel-item::after {content: \"\";width: 100%;border-bottom: 1px solid gray;flex-grow: 1;}#sk-container-id-8 div.sk-label:hover label.sk-toggleable__label {background-color: #d4ebff;}#sk-container-id-8 div.sk-serial::before {content: \"\";position: absolute;border-left: 1px solid gray;box-sizing: border-box;top: 0;bottom: 0;left: 50%;z-index: 0;}#sk-container-id-8 div.sk-serial {display: flex;flex-direction: column;align-items: center;background-color: white;padding-right: 0.2em;padding-left: 0.2em;position: relative;}#sk-container-id-8 div.sk-item {position: relative;z-index: 1;}#sk-container-id-8 div.sk-parallel {display: flex;align-items: stretch;justify-content: center;background-color: white;position: relative;}#sk-container-id-8 div.sk-item::before, #sk-container-id-8 div.sk-parallel-item::before {content: \"\";position: absolute;border-left: 1px solid gray;box-sizing: border-box;top: 0;bottom: 0;left: 50%;z-index: -1;}#sk-container-id-8 div.sk-parallel-item {display: flex;flex-direction: column;z-index: 1;position: relative;background-color: white;}#sk-container-id-8 div.sk-parallel-item:first-child::after {align-self: flex-end;width: 50%;}#sk-container-id-8 div.sk-parallel-item:last-child::after {align-self: flex-start;width: 50%;}#sk-container-id-8 div.sk-parallel-item:only-child::after {width: 0;}#sk-container-id-8 div.sk-dashed-wrapped {border: 1px dashed gray;margin: 0 0.4em 0.5em 0.4em;box-sizing: border-box;padding-bottom: 0.4em;background-color: white;}#sk-container-id-8 div.sk-label label {font-family: monospace;font-weight: bold;display: inline-block;line-height: 1.2em;}#sk-container-id-8 div.sk-label-container {text-align: center;}#sk-container-id-8 div.sk-container {/* jupyter's `normalize.less` sets `[hidden] { display: none; }` but bootstrap.min.css set `[hidden] { display: none !important; }` so we also need the `!important` here to be able to override the default hidden behavior on the sphinx rendered scikit-learn.org. See: https://github.com/scikit-learn/scikit-learn/issues/21755 */display: inline-block !important;position: relative;}#sk-container-id-8 div.sk-text-repr-fallback {display: none;}</style><div id=\"sk-container-id-8\" class=\"sk-top-container\"><div class=\"sk-text-repr-fallback\"><pre>BayesSearchCV(cv=5,\n",
       "              estimator=XGBClassifier(base_score=None, booster=None,\n",
       "                                      callbacks=None, colsample_bylevel=None,\n",
       "                                      colsample_bynode=None,\n",
       "                                      colsample_bytree=None, device=None,\n",
       "                                      early_stopping_rounds=None,\n",
       "                                      enable_categorical=False,\n",
       "                                      eval_metric=None, feature_types=None,\n",
       "                                      gamma=None, grow_policy=None,\n",
       "                                      importance_type=None,\n",
       "                                      interaction_constraints=None,\n",
       "                                      learning_rate=None...\n",
       "                             &#x27;min_child_weight&#x27;: Integer(low=1, high=10, prior=&#x27;uniform&#x27;, transform=&#x27;normalize&#x27;),\n",
       "                             &#x27;n_estimators&#x27;: Integer(low=50, high=200, prior=&#x27;uniform&#x27;, transform=&#x27;normalize&#x27;),\n",
       "                             &#x27;reg_alpha&#x27;: Real(low=0, high=1.0, prior=&#x27;uniform&#x27;, transform=&#x27;normalize&#x27;),\n",
       "                             &#x27;reg_lambda&#x27;: Real(low=0, high=1.0, prior=&#x27;uniform&#x27;, transform=&#x27;normalize&#x27;),\n",
       "                             &#x27;subsample&#x27;: Real(low=0.6, high=1.0, prior=&#x27;uniform&#x27;, transform=&#x27;normalize&#x27;)})</pre><b>In a Jupyter environment, please rerun this cell to show the HTML representation or trust the notebook. <br />On GitHub, the HTML representation is unable to render, please try loading this page with nbviewer.org.</b></div><div class=\"sk-container\" hidden><div class=\"sk-item sk-dashed-wrapped\"><div class=\"sk-label-container\"><div class=\"sk-label sk-toggleable\"><input class=\"sk-toggleable__control sk-hidden--visually\" id=\"sk-estimator-id-8\" type=\"checkbox\" ><label for=\"sk-estimator-id-8\" class=\"sk-toggleable__label sk-toggleable__label-arrow\">BayesSearchCV</label><div class=\"sk-toggleable__content\"><pre>BayesSearchCV(cv=5,\n",
       "              estimator=XGBClassifier(base_score=None, booster=None,\n",
       "                                      callbacks=None, colsample_bylevel=None,\n",
       "                                      colsample_bynode=None,\n",
       "                                      colsample_bytree=None, device=None,\n",
       "                                      early_stopping_rounds=None,\n",
       "                                      enable_categorical=False,\n",
       "                                      eval_metric=None, feature_types=None,\n",
       "                                      gamma=None, grow_policy=None,\n",
       "                                      importance_type=None,\n",
       "                                      interaction_constraints=None,\n",
       "                                      learning_rate=None...\n",
       "                             &#x27;min_child_weight&#x27;: Integer(low=1, high=10, prior=&#x27;uniform&#x27;, transform=&#x27;normalize&#x27;),\n",
       "                             &#x27;n_estimators&#x27;: Integer(low=50, high=200, prior=&#x27;uniform&#x27;, transform=&#x27;normalize&#x27;),\n",
       "                             &#x27;reg_alpha&#x27;: Real(low=0, high=1.0, prior=&#x27;uniform&#x27;, transform=&#x27;normalize&#x27;),\n",
       "                             &#x27;reg_lambda&#x27;: Real(low=0, high=1.0, prior=&#x27;uniform&#x27;, transform=&#x27;normalize&#x27;),\n",
       "                             &#x27;subsample&#x27;: Real(low=0.6, high=1.0, prior=&#x27;uniform&#x27;, transform=&#x27;normalize&#x27;)})</pre></div></div></div><div class=\"sk-parallel\"><div class=\"sk-parallel-item\"><div class=\"sk-item\"><div class=\"sk-label-container\"><div class=\"sk-label sk-toggleable\"><input class=\"sk-toggleable__control sk-hidden--visually\" id=\"sk-estimator-id-9\" type=\"checkbox\" ><label for=\"sk-estimator-id-9\" class=\"sk-toggleable__label sk-toggleable__label-arrow\">estimator: XGBClassifier</label><div class=\"sk-toggleable__content\"><pre>XGBClassifier(base_score=None, booster=None, callbacks=None,\n",
       "              colsample_bylevel=None, colsample_bynode=None,\n",
       "              colsample_bytree=None, device=None, early_stopping_rounds=None,\n",
       "              enable_categorical=False, eval_metric=None, feature_types=None,\n",
       "              gamma=None, grow_policy=None, importance_type=None,\n",
       "              interaction_constraints=None, learning_rate=None, max_bin=None,\n",
       "              max_cat_threshold=None, max_cat_to_onehot=None,\n",
       "              max_delta_step=None, max_depth=None, max_leaves=None,\n",
       "              min_child_weight=None, missing=nan, monotone_constraints=None,\n",
       "              multi_strategy=None, n_estimators=None, n_jobs=None,\n",
       "              num_parallel_tree=None, random_state=None, ...)</pre></div></div></div><div class=\"sk-serial\"><div class=\"sk-item\"><div class=\"sk-estimator sk-toggleable\"><input class=\"sk-toggleable__control sk-hidden--visually\" id=\"sk-estimator-id-10\" type=\"checkbox\" ><label for=\"sk-estimator-id-10\" class=\"sk-toggleable__label sk-toggleable__label-arrow\">XGBClassifier</label><div class=\"sk-toggleable__content\"><pre>XGBClassifier(base_score=None, booster=None, callbacks=None,\n",
       "              colsample_bylevel=None, colsample_bynode=None,\n",
       "              colsample_bytree=None, device=None, early_stopping_rounds=None,\n",
       "              enable_categorical=False, eval_metric=None, feature_types=None,\n",
       "              gamma=None, grow_policy=None, importance_type=None,\n",
       "              interaction_constraints=None, learning_rate=None, max_bin=None,\n",
       "              max_cat_threshold=None, max_cat_to_onehot=None,\n",
       "              max_delta_step=None, max_depth=None, max_leaves=None,\n",
       "              min_child_weight=None, missing=nan, monotone_constraints=None,\n",
       "              multi_strategy=None, n_estimators=None, n_jobs=None,\n",
       "              num_parallel_tree=None, random_state=None, ...)</pre></div></div></div></div></div></div></div></div></div></div>"
      ],
      "text/plain": [
       "BayesSearchCV(cv=5,\n",
       "              estimator=XGBClassifier(base_score=None, booster=None,\n",
       "                                      callbacks=None, colsample_bylevel=None,\n",
       "                                      colsample_bynode=None,\n",
       "                                      colsample_bytree=None, device=None,\n",
       "                                      early_stopping_rounds=None,\n",
       "                                      enable_categorical=False,\n",
       "                                      eval_metric=None, feature_types=None,\n",
       "                                      gamma=None, grow_policy=None,\n",
       "                                      importance_type=None,\n",
       "                                      interaction_constraints=None,\n",
       "                                      learning_rate=None...\n",
       "                             'min_child_weight': Integer(low=1, high=10, prior='uniform', transform='normalize'),\n",
       "                             'n_estimators': Integer(low=50, high=200, prior='uniform', transform='normalize'),\n",
       "                             'reg_alpha': Real(low=0, high=1.0, prior='uniform', transform='normalize'),\n",
       "                             'reg_lambda': Real(low=0, high=1.0, prior='uniform', transform='normalize'),\n",
       "                             'subsample': Real(low=0.6, high=1.0, prior='uniform', transform='normalize')})"
      ]
     },
     "execution_count": 134,
     "metadata": {},
     "output_type": "execute_result"
    }
   ],
   "source": [
    "# Define the parameter search space\n",
    "search_spaces = {\n",
    "    'n_estimators': Integer(50, 200),\n",
    "    'max_depth': Integer(2, 10),\n",
    "    'learning_rate': Real(0.01, 0.3, 'log-uniform'),\n",
    "    'subsample': Real(0.6, 1.0),\n",
    "    'colsample_bytree': Real(0.3, 1.0),\n",
    "    'gamma': Real(0, 0.5),\n",
    "    'reg_alpha': Real(0, 1.0),\n",
    "    'reg_lambda': Real(0, 1.0),\n",
    "    'min_child_weight': Integer(1, 10),\n",
    "    \n",
    "}\n",
    "\n",
    "# Set up the BayesSearchCV\n",
    "bayes_search = BayesSearchCV(\n",
    "    estimator=xgboost_classifier,\n",
    "    search_spaces=search_spaces,\n",
    "    scoring='accuracy', \n",
    "    cv=5,\n",
    "    n_iter=25,  \n",
    "    verbose=0,\n",
    "    random_state=42\n",
    ")\n",
    "\n",
    "# Fit to the training data\n",
    "bayes_search.fit(X_train, y_train)"
   ]
  },
  {
   "cell_type": "code",
   "execution_count": 217,
   "id": "31ed5119-7b2d-4a1c-af95-67299290d1e6",
   "metadata": {},
   "outputs": [
    {
     "name": "stdout",
     "output_type": "stream",
     "text": [
      "val. score:  0.85375\n",
      "test score:  0.865\n",
      "best params:  OrderedDict([('colsample_bytree', 0.8596874091250211), ('gamma', 0.21901459322046168), ('learning_rate', 0.05996280567850356), ('max_depth', 8), ('min_child_weight', 9), ('n_estimators', 158), ('reg_alpha', 0.42417807246068207), ('reg_lambda', 0.6502841017477626), ('subsample', 0.7412335382111885)])\n"
     ]
    }
   ],
   "source": [
    "print(\"val. score: \", bayes_search.best_score_) #10 iter\n",
    "print(\"test score: \", bayes_search.score(X_test, y_test)) \n",
    "print(\"best params: \", bayes_search.best_params_)"
   ]
  },
  {
   "cell_type": "code",
   "execution_count": 219,
   "id": "fd87ec2e-46fb-49be-ab33-e456878536ca",
   "metadata": {},
   "outputs": [
    {
     "name": "stdout",
     "output_type": "stream",
     "text": [
      "val. score:  0.865\n",
      "test score:  0.875\n",
      "best params:  OrderedDict([('colsample_bytree', 0.7098159680567573), ('gamma', 0.4325903537768684), ('learning_rate', 0.11911146809554733), ('max_depth', 10), ('min_child_weight', 4), ('n_estimators', 200), ('reg_alpha', 0.19045293322755044), ('reg_lambda', 1.0), ('subsample', 0.8851384179544988)])\n"
     ]
    }
   ],
   "source": [
    "print(\"val. score: \", bayes_search.best_score_) #25 iter\n",
    "print(\"test score: \", bayes_search.score(X_test, y_test))\n",
    "print(\"best params: \", bayes_search.best_params_)"
   ]
  },
  {
   "cell_type": "code",
   "execution_count": 221,
   "id": "a876efc4-e6e0-4d33-8ce3-1b92df1adfa8",
   "metadata": {},
   "outputs": [
    {
     "name": "stdout",
     "output_type": "stream",
     "text": [
      "val. score:  0.8675\n",
      "test score:  0.84\n",
      "best params:  OrderedDict([('colsample_bytree', 0.7598166505204225), ('gamma', 0.5), ('learning_rate', 0.08580281705462359), ('max_depth', 3), ('min_child_weight', 10), ('n_estimators', 200), ('reg_alpha', 0.0), ('reg_lambda', 0.0), ('subsample', 1.0)])\n"
     ]
    }
   ],
   "source": [
    "print(\"val. score: \", bayes_search.best_score_) #60 iter\n",
    "print(\"test score: \", bayes_search.score(X_test, y_test))\n",
    "print(\"best params: \", bayes_search.best_params_)"
   ]
  },
  {
   "cell_type": "code",
   "execution_count": 135,
   "id": "8b9dd284-7311-45ef-a103-85d6107fff87",
   "metadata": {},
   "outputs": [
    {
     "name": "stdout",
     "output_type": "stream",
     "text": [
      "val. score:  0.9037499999999999\n",
      "test score:  0.9135\n",
      "best params:  OrderedDict([('colsample_bytree', 0.9981051707664326), ('gamma', 0.469819076944712), ('learning_rate', 0.14652183363667018), ('max_depth', 10), ('min_child_weight', 10), ('n_estimators', 200), ('reg_alpha', 0.8999343276827675), ('reg_lambda', 0.07026580469678426), ('subsample', 0.6524891243612454)])\n"
     ]
    }
   ],
   "source": [
    "print(\"val. score: \", bayes_search.best_score_) #25 iter\n",
    "print(\"test score: \", bayes_search.score(X_test, y_test)) \n",
    "print(\"best params: \", bayes_search.best_params_)"
   ]
  },
  {
   "cell_type": "code",
   "execution_count": 136,
   "id": "70032a22-0e6e-42c2-a189-ef11c1af54a4",
   "metadata": {},
   "outputs": [
    {
     "data": {
      "text/html": [
       "<style>#sk-container-id-9 {color: black;}#sk-container-id-9 pre{padding: 0;}#sk-container-id-9 div.sk-toggleable {background-color: white;}#sk-container-id-9 label.sk-toggleable__label {cursor: pointer;display: block;width: 100%;margin-bottom: 0;padding: 0.3em;box-sizing: border-box;text-align: center;}#sk-container-id-9 label.sk-toggleable__label-arrow:before {content: \"▸\";float: left;margin-right: 0.25em;color: #696969;}#sk-container-id-9 label.sk-toggleable__label-arrow:hover:before {color: black;}#sk-container-id-9 div.sk-estimator:hover label.sk-toggleable__label-arrow:before {color: black;}#sk-container-id-9 div.sk-toggleable__content {max-height: 0;max-width: 0;overflow: hidden;text-align: left;background-color: #f0f8ff;}#sk-container-id-9 div.sk-toggleable__content pre {margin: 0.2em;color: black;border-radius: 0.25em;background-color: #f0f8ff;}#sk-container-id-9 input.sk-toggleable__control:checked~div.sk-toggleable__content {max-height: 200px;max-width: 100%;overflow: auto;}#sk-container-id-9 input.sk-toggleable__control:checked~label.sk-toggleable__label-arrow:before {content: \"▾\";}#sk-container-id-9 div.sk-estimator input.sk-toggleable__control:checked~label.sk-toggleable__label {background-color: #d4ebff;}#sk-container-id-9 div.sk-label input.sk-toggleable__control:checked~label.sk-toggleable__label {background-color: #d4ebff;}#sk-container-id-9 input.sk-hidden--visually {border: 0;clip: rect(1px 1px 1px 1px);clip: rect(1px, 1px, 1px, 1px);height: 1px;margin: -1px;overflow: hidden;padding: 0;position: absolute;width: 1px;}#sk-container-id-9 div.sk-estimator {font-family: monospace;background-color: #f0f8ff;border: 1px dotted black;border-radius: 0.25em;box-sizing: border-box;margin-bottom: 0.5em;}#sk-container-id-9 div.sk-estimator:hover {background-color: #d4ebff;}#sk-container-id-9 div.sk-parallel-item::after {content: \"\";width: 100%;border-bottom: 1px solid gray;flex-grow: 1;}#sk-container-id-9 div.sk-label:hover label.sk-toggleable__label {background-color: #d4ebff;}#sk-container-id-9 div.sk-serial::before {content: \"\";position: absolute;border-left: 1px solid gray;box-sizing: border-box;top: 0;bottom: 0;left: 50%;z-index: 0;}#sk-container-id-9 div.sk-serial {display: flex;flex-direction: column;align-items: center;background-color: white;padding-right: 0.2em;padding-left: 0.2em;position: relative;}#sk-container-id-9 div.sk-item {position: relative;z-index: 1;}#sk-container-id-9 div.sk-parallel {display: flex;align-items: stretch;justify-content: center;background-color: white;position: relative;}#sk-container-id-9 div.sk-item::before, #sk-container-id-9 div.sk-parallel-item::before {content: \"\";position: absolute;border-left: 1px solid gray;box-sizing: border-box;top: 0;bottom: 0;left: 50%;z-index: -1;}#sk-container-id-9 div.sk-parallel-item {display: flex;flex-direction: column;z-index: 1;position: relative;background-color: white;}#sk-container-id-9 div.sk-parallel-item:first-child::after {align-self: flex-end;width: 50%;}#sk-container-id-9 div.sk-parallel-item:last-child::after {align-self: flex-start;width: 50%;}#sk-container-id-9 div.sk-parallel-item:only-child::after {width: 0;}#sk-container-id-9 div.sk-dashed-wrapped {border: 1px dashed gray;margin: 0 0.4em 0.5em 0.4em;box-sizing: border-box;padding-bottom: 0.4em;background-color: white;}#sk-container-id-9 div.sk-label label {font-family: monospace;font-weight: bold;display: inline-block;line-height: 1.2em;}#sk-container-id-9 div.sk-label-container {text-align: center;}#sk-container-id-9 div.sk-container {/* jupyter's `normalize.less` sets `[hidden] { display: none; }` but bootstrap.min.css set `[hidden] { display: none !important; }` so we also need the `!important` here to be able to override the default hidden behavior on the sphinx rendered scikit-learn.org. See: https://github.com/scikit-learn/scikit-learn/issues/21755 */display: inline-block !important;position: relative;}#sk-container-id-9 div.sk-text-repr-fallback {display: none;}</style><div id=\"sk-container-id-9\" class=\"sk-top-container\"><div class=\"sk-text-repr-fallback\"><pre>XGBClassifier(base_score=None, booster=None, callbacks=None,\n",
       "              colsample_bylevel=None, colsample_bynode=None,\n",
       "              colsample_bytree=0.9981051707664326, device=None,\n",
       "              early_stopping_rounds=None, enable_categorical=False,\n",
       "              eval_metric=None, feature_types=None, gamma=0.469819076944712,\n",
       "              grow_policy=None, importance_type=None,\n",
       "              interaction_constraints=None, learning_rate=0.14652183363667018,\n",
       "              max_bin=None, max_cat_threshold=None, max_cat_to_onehot=None,\n",
       "              max_delta_step=None, max_depth=10, max_leaves=None,\n",
       "              min_child_weight=10, missing=nan, monotone_constraints=None,\n",
       "              multi_strategy=None, n_estimators=200, n_jobs=None,\n",
       "              num_parallel_tree=None, random_state=None, ...)</pre><b>In a Jupyter environment, please rerun this cell to show the HTML representation or trust the notebook. <br />On GitHub, the HTML representation is unable to render, please try loading this page with nbviewer.org.</b></div><div class=\"sk-container\" hidden><div class=\"sk-item\"><div class=\"sk-estimator sk-toggleable\"><input class=\"sk-toggleable__control sk-hidden--visually\" id=\"sk-estimator-id-11\" type=\"checkbox\" checked><label for=\"sk-estimator-id-11\" class=\"sk-toggleable__label sk-toggleable__label-arrow\">XGBClassifier</label><div class=\"sk-toggleable__content\"><pre>XGBClassifier(base_score=None, booster=None, callbacks=None,\n",
       "              colsample_bylevel=None, colsample_bynode=None,\n",
       "              colsample_bytree=0.9981051707664326, device=None,\n",
       "              early_stopping_rounds=None, enable_categorical=False,\n",
       "              eval_metric=None, feature_types=None, gamma=0.469819076944712,\n",
       "              grow_policy=None, importance_type=None,\n",
       "              interaction_constraints=None, learning_rate=0.14652183363667018,\n",
       "              max_bin=None, max_cat_threshold=None, max_cat_to_onehot=None,\n",
       "              max_delta_step=None, max_depth=10, max_leaves=None,\n",
       "              min_child_weight=10, missing=nan, monotone_constraints=None,\n",
       "              multi_strategy=None, n_estimators=200, n_jobs=None,\n",
       "              num_parallel_tree=None, random_state=None, ...)</pre></div></div></div></div></div>"
      ],
      "text/plain": [
       "XGBClassifier(base_score=None, booster=None, callbacks=None,\n",
       "              colsample_bylevel=None, colsample_bynode=None,\n",
       "              colsample_bytree=0.9981051707664326, device=None,\n",
       "              early_stopping_rounds=None, enable_categorical=False,\n",
       "              eval_metric=None, feature_types=None, gamma=0.469819076944712,\n",
       "              grow_policy=None, importance_type=None,\n",
       "              interaction_constraints=None, learning_rate=0.14652183363667018,\n",
       "              max_bin=None, max_cat_threshold=None, max_cat_to_onehot=None,\n",
       "              max_delta_step=None, max_depth=10, max_leaves=None,\n",
       "              min_child_weight=10, missing=nan, monotone_constraints=None,\n",
       "              multi_strategy=None, n_estimators=200, n_jobs=None,\n",
       "              num_parallel_tree=None, random_state=None, ...)"
      ]
     },
     "execution_count": 136,
     "metadata": {},
     "output_type": "execute_result"
    }
   ],
   "source": [
    "best_model = bayes_search.best_estimator_\n",
    "best_model"
   ]
  },
  {
   "cell_type": "code",
   "execution_count": 138,
   "id": "fec58e06-4251-4223-8e3e-8942df394fe9",
   "metadata": {},
   "outputs": [
    {
     "data": {
      "text/plain": [
       "0.999625"
      ]
     },
     "execution_count": 138,
     "metadata": {},
     "output_type": "execute_result"
    }
   ],
   "source": [
    "best_model.score(X_train, y_train)"
   ]
  },
  {
   "cell_type": "markdown",
   "id": "58905885-d862-450d-a37f-44b9e1e6fd1e",
   "metadata": {
    "jp-MarkdownHeadingCollapsed": true
   },
   "source": [
    "# MLP Classifier"
   ]
  },
  {
   "cell_type": "code",
   "execution_count": 150,
   "id": "f2863a43-cc47-47f2-b0b6-0772e4917dbc",
   "metadata": {},
   "outputs": [],
   "source": [
    "from sklearn.neural_network import MLPClassifier"
   ]
  },
  {
   "cell_type": "code",
   "execution_count": 159,
   "id": "6e7b9180-76ee-4ea9-a06e-9a8fd7121bf5",
   "metadata": {},
   "outputs": [],
   "source": [
    "mlp_classifier = MLPClassifier(hidden_layer_sizes = (250, 75, 50), \n",
    "                               max_iter=50, \n",
    "                               random_state=1,\n",
    "                               verbose = 1,\n",
    "                              )"
   ]
  },
  {
   "cell_type": "code",
   "execution_count": 160,
   "id": "aa81f239-1ece-4e68-88b1-a9e1960920b3",
   "metadata": {
    "scrolled": true
   },
   "outputs": [
    {
     "name": "stdout",
     "output_type": "stream",
     "text": [
      "Iteration 1, loss = 0.47130250\n",
      "Iteration 2, loss = 0.20864376\n",
      "Iteration 3, loss = 0.16144444\n",
      "Iteration 4, loss = 0.13055653\n",
      "Iteration 5, loss = 0.10304892\n",
      "Iteration 6, loss = 0.07963900\n",
      "Iteration 7, loss = 0.05635576\n",
      "Iteration 8, loss = 0.04194824\n",
      "Iteration 9, loss = 0.03169981\n",
      "Iteration 10, loss = 0.02142433\n",
      "Iteration 11, loss = 0.01321609\n",
      "Iteration 12, loss = 0.01242706\n",
      "Iteration 13, loss = 0.01136594\n",
      "Iteration 14, loss = 0.00966027\n",
      "Iteration 15, loss = 0.00838217\n",
      "Iteration 16, loss = 0.01181871\n",
      "Iteration 17, loss = 0.01089477\n",
      "Iteration 18, loss = 0.00532297\n",
      "Iteration 19, loss = 0.01819336\n",
      "Iteration 20, loss = 0.01947154\n",
      "Iteration 21, loss = 0.01489616\n",
      "Iteration 22, loss = 0.00943545\n",
      "Iteration 23, loss = 0.00578337\n",
      "Iteration 24, loss = 0.00457181\n",
      "Iteration 25, loss = 0.00155186\n",
      "Iteration 26, loss = 0.00320239\n",
      "Iteration 27, loss = 0.00146434\n",
      "Iteration 28, loss = 0.00110325\n",
      "Iteration 29, loss = 0.00084579\n",
      "Iteration 30, loss = 0.00195403\n",
      "Iteration 31, loss = 0.00068480\n",
      "Iteration 32, loss = 0.00170920\n",
      "Iteration 33, loss = 0.00057530\n",
      "Iteration 34, loss = 0.00068647\n",
      "Iteration 35, loss = 0.00045871\n",
      "Iteration 36, loss = 0.00027341\n",
      "Iteration 37, loss = 0.00051262\n",
      "Iteration 38, loss = 0.00032783\n",
      "Iteration 39, loss = 0.00037647\n",
      "Iteration 40, loss = 0.00059874\n",
      "Iteration 41, loss = 0.00083987\n",
      "Iteration 42, loss = 0.00033573\n",
      "Iteration 43, loss = 0.00035018\n",
      "Iteration 44, loss = 0.00045490\n",
      "Iteration 45, loss = 0.00050448\n",
      "Iteration 46, loss = 0.00020030\n",
      "Iteration 47, loss = 0.00030938\n",
      "Training loss did not improve more than tol=0.000100 for 10 consecutive epochs. Stopping.\n"
     ]
    },
    {
     "data": {
      "text/html": [
       "<style>#sk-container-id-13 {color: black;}#sk-container-id-13 pre{padding: 0;}#sk-container-id-13 div.sk-toggleable {background-color: white;}#sk-container-id-13 label.sk-toggleable__label {cursor: pointer;display: block;width: 100%;margin-bottom: 0;padding: 0.3em;box-sizing: border-box;text-align: center;}#sk-container-id-13 label.sk-toggleable__label-arrow:before {content: \"▸\";float: left;margin-right: 0.25em;color: #696969;}#sk-container-id-13 label.sk-toggleable__label-arrow:hover:before {color: black;}#sk-container-id-13 div.sk-estimator:hover label.sk-toggleable__label-arrow:before {color: black;}#sk-container-id-13 div.sk-toggleable__content {max-height: 0;max-width: 0;overflow: hidden;text-align: left;background-color: #f0f8ff;}#sk-container-id-13 div.sk-toggleable__content pre {margin: 0.2em;color: black;border-radius: 0.25em;background-color: #f0f8ff;}#sk-container-id-13 input.sk-toggleable__control:checked~div.sk-toggleable__content {max-height: 200px;max-width: 100%;overflow: auto;}#sk-container-id-13 input.sk-toggleable__control:checked~label.sk-toggleable__label-arrow:before {content: \"▾\";}#sk-container-id-13 div.sk-estimator input.sk-toggleable__control:checked~label.sk-toggleable__label {background-color: #d4ebff;}#sk-container-id-13 div.sk-label input.sk-toggleable__control:checked~label.sk-toggleable__label {background-color: #d4ebff;}#sk-container-id-13 input.sk-hidden--visually {border: 0;clip: rect(1px 1px 1px 1px);clip: rect(1px, 1px, 1px, 1px);height: 1px;margin: -1px;overflow: hidden;padding: 0;position: absolute;width: 1px;}#sk-container-id-13 div.sk-estimator {font-family: monospace;background-color: #f0f8ff;border: 1px dotted black;border-radius: 0.25em;box-sizing: border-box;margin-bottom: 0.5em;}#sk-container-id-13 div.sk-estimator:hover {background-color: #d4ebff;}#sk-container-id-13 div.sk-parallel-item::after {content: \"\";width: 100%;border-bottom: 1px solid gray;flex-grow: 1;}#sk-container-id-13 div.sk-label:hover label.sk-toggleable__label {background-color: #d4ebff;}#sk-container-id-13 div.sk-serial::before {content: \"\";position: absolute;border-left: 1px solid gray;box-sizing: border-box;top: 0;bottom: 0;left: 50%;z-index: 0;}#sk-container-id-13 div.sk-serial {display: flex;flex-direction: column;align-items: center;background-color: white;padding-right: 0.2em;padding-left: 0.2em;position: relative;}#sk-container-id-13 div.sk-item {position: relative;z-index: 1;}#sk-container-id-13 div.sk-parallel {display: flex;align-items: stretch;justify-content: center;background-color: white;position: relative;}#sk-container-id-13 div.sk-item::before, #sk-container-id-13 div.sk-parallel-item::before {content: \"\";position: absolute;border-left: 1px solid gray;box-sizing: border-box;top: 0;bottom: 0;left: 50%;z-index: -1;}#sk-container-id-13 div.sk-parallel-item {display: flex;flex-direction: column;z-index: 1;position: relative;background-color: white;}#sk-container-id-13 div.sk-parallel-item:first-child::after {align-self: flex-end;width: 50%;}#sk-container-id-13 div.sk-parallel-item:last-child::after {align-self: flex-start;width: 50%;}#sk-container-id-13 div.sk-parallel-item:only-child::after {width: 0;}#sk-container-id-13 div.sk-dashed-wrapped {border: 1px dashed gray;margin: 0 0.4em 0.5em 0.4em;box-sizing: border-box;padding-bottom: 0.4em;background-color: white;}#sk-container-id-13 div.sk-label label {font-family: monospace;font-weight: bold;display: inline-block;line-height: 1.2em;}#sk-container-id-13 div.sk-label-container {text-align: center;}#sk-container-id-13 div.sk-container {/* jupyter's `normalize.less` sets `[hidden] { display: none; }` but bootstrap.min.css set `[hidden] { display: none !important; }` so we also need the `!important` here to be able to override the default hidden behavior on the sphinx rendered scikit-learn.org. See: https://github.com/scikit-learn/scikit-learn/issues/21755 */display: inline-block !important;position: relative;}#sk-container-id-13 div.sk-text-repr-fallback {display: none;}</style><div id=\"sk-container-id-13\" class=\"sk-top-container\"><div class=\"sk-text-repr-fallback\"><pre>MLPClassifier(hidden_layer_sizes=(250, 75, 50), max_iter=50, random_state=1,\n",
       "              verbose=1)</pre><b>In a Jupyter environment, please rerun this cell to show the HTML representation or trust the notebook. <br />On GitHub, the HTML representation is unable to render, please try loading this page with nbviewer.org.</b></div><div class=\"sk-container\" hidden><div class=\"sk-item\"><div class=\"sk-estimator sk-toggleable\"><input class=\"sk-toggleable__control sk-hidden--visually\" id=\"sk-estimator-id-15\" type=\"checkbox\" checked><label for=\"sk-estimator-id-15\" class=\"sk-toggleable__label sk-toggleable__label-arrow\">MLPClassifier</label><div class=\"sk-toggleable__content\"><pre>MLPClassifier(hidden_layer_sizes=(250, 75, 50), max_iter=50, random_state=1,\n",
       "              verbose=1)</pre></div></div></div></div></div>"
      ],
      "text/plain": [
       "MLPClassifier(hidden_layer_sizes=(250, 75, 50), max_iter=50, random_state=1,\n",
       "              verbose=1)"
      ]
     },
     "execution_count": 160,
     "metadata": {},
     "output_type": "execute_result"
    }
   ],
   "source": [
    "mlp_classifier.fit(X_train, y_train)"
   ]
  },
  {
   "cell_type": "code",
   "execution_count": 161,
   "id": "7db62403-295d-4fff-a051-3c3a3dd3b85c",
   "metadata": {},
   "outputs": [
    {
     "data": {
      "image/png": "[encoded data removed]",
      "text/plain": [
       "<Figure size 640x480 with 2 Axes>"
      ]
     },
     "metadata": {},
     "output_type": "display_data"
    },
    {
     "name": "stdout",
     "output_type": "stream",
     "text": [
      "\n",
      "Accuracy: 1.00\n",
      "\n",
      "Classification Report:\n",
      "               precision    recall  f1-score   support\n",
      "\n",
      "           0       1.00      1.00      1.00      3987\n",
      "           1       1.00      1.00      1.00      4013\n",
      "\n",
      "    accuracy                           1.00      8000\n",
      "   macro avg       1.00      1.00      1.00      8000\n",
      "weighted avg       1.00      1.00      1.00      8000\n",
      "\n",
      "\n",
      "Error Rates and Additional Analysis:\n",
      "False Positive Rate (FPR): 0.00\n",
      "False Negative Rate (FNR): 0.00\n",
      "True Positive Rate (TPR): 1.00\n",
      "True Negative Rate (TNR): 1.00\n",
      "\n",
      "Summary of Errors:\n",
      "Total Mistakes (FP + FN): 0\n",
      "Error Rate: 0.00\n"
     ]
    }
   ],
   "source": [
    "y_pred_train = mlp_classifier.predict(X_train)\n",
    "model_evaluation(y_train, y_pred_train)"
   ]
  },
  {
   "cell_type": "code",
   "execution_count": 162,
   "id": "c4d0642f-760b-4621-a2d0-ffffc8964253",
   "metadata": {},
   "outputs": [
    {
     "data": {
      "image/png": "[encoded data removed]",
      "text/plain": [
       "<Figure size 640x480 with 2 Axes>"
      ]
     },
     "metadata": {},
     "output_type": "display_data"
    },
    {
     "name": "stdout",
     "output_type": "stream",
     "text": [
      "\n",
      "Accuracy: 0.92\n",
      "\n",
      "Classification Report:\n",
      "               precision    recall  f1-score   support\n",
      "\n",
      "           0       0.91      0.93      0.92      1013\n",
      "           1       0.93      0.91      0.92       987\n",
      "\n",
      "    accuracy                           0.92      2000\n",
      "   macro avg       0.92      0.92      0.92      2000\n",
      "weighted avg       0.92      0.92      0.92      2000\n",
      "\n",
      "\n",
      "Error Rates and Additional Analysis:\n",
      "False Positive Rate (FPR): 0.07\n",
      "False Negative Rate (FNR): 0.09\n",
      "True Positive Rate (TPR): 0.91\n",
      "True Negative Rate (TNR): 0.93\n",
      "\n",
      "Summary of Errors:\n",
      "Total Mistakes (FP + FN): 156\n",
      "Error Rate: 0.08\n"
     ]
    }
   ],
   "source": [
    "y_pred_test = mlp_classifier.predict(X_test)\n",
    "model_evaluation(y_test, y_pred_test)"
   ]
  },
  {
   "cell_type": "code",
   "execution_count": null,
   "id": "d719e0df-60ed-47db-a3ae-e60fc64f8c74",
   "metadata": {},
   "outputs": [],
   "source": []
  }
 ],
 "metadata": {
  "kernelspec": {
   "display_name": "Python 3 (ipykernel)",
   "language": "python",
   "name": "python3"
  },
  "language_info": {
   "codemirror_mode": {
    "name": "ipython",
    "version": 3
   },
   "file_extension": ".py",
   "mimetype": "text/x-python",
   "name": "python",
   "nbconvert_exporter": "python",
   "pygments_lexer": "ipython3",
   "version": "3.11.5"
  }
 },
 "nbformat": 4,
 "nbformat_minor": 5
}
